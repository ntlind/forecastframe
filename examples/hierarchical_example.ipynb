{
 "metadata": {
  "language_info": {
   "codemirror_mode": {
    "name": "ipython",
    "version": 3
   },
   "file_extension": ".py",
   "mimetype": "text/x-python",
   "name": "python",
   "nbconvert_exporter": "python",
   "pygments_lexer": "ipython3",
   "version": "3.8.5"
  },
  "orig_nbformat": 2,
  "kernelspec": {
   "name": "python3",
   "display_name": "Python 3.8.5 64-bit"
  },
  "metadata": {
   "interpreter": {
    "hash": "916dbcbb3f70747c44a77c7bcd40155683ae19c65e1c03b4aa3499c5328201f1"
   }
  },
  "interpreter": {
   "hash": "31f2aee4e71d21fbe5cf8b01ff0e069b9275f58929596ceb00d14d90e3e16cd6"
  }
 },
 "nbformat": 4,
 "nbformat_minor": 2,
 "cells": [
  {
   "cell_type": "markdown",
   "source": [
    "# Quick Start Examples - Hierarchical Retail Data"
   ],
   "metadata": {}
  },
  {
   "cell_type": "code",
   "execution_count": 1,
   "source": [
    "%load_ext autoreload\n",
    "\n",
    "%autoreload 2"
   ],
   "outputs": [],
   "metadata": {}
  },
  {
   "cell_type": "code",
   "execution_count": 2,
   "source": [
    "\n",
    "import numpy as np\n",
    "import pandas as pd\n",
    "import os \n",
    "\n",
    "# help ipython find our path\n",
    "directory = os.path.dirname(os.path.abspath(''))\n",
    "os.chdir(directory)\n",
    "\n",
    "import forecastframe as ff\n"
   ],
   "outputs": [],
   "metadata": {}
  },
  {
   "cell_type": "code",
   "execution_count": 3,
   "source": [
    "# hierarchical_data = pd.read_csv(\"./forecastframe/sample_data/daily/small.csv\") # decided to create fake data instead of using this messy hierarchical data from kaggle\n",
    "\n",
    "data = pd.read_csv(\"https://raw.githubusercontent.com/facebook/prophet/master/examples/example_retail_sales.csv\")\n",
    "\n",
    "# create fake hierarchical retail dataset\n",
    "def assign_fake_hierarchy(data, hierarchy_tuple, hierarchy_cols = ['state', 'store_id', 'category', 'sku']):\n",
    "    data['hierarchy'] = [hierarchy_tuple]*len(data)\n",
    "    data[hierarchy_cols] = pd.DataFrame(data['hierarchy'].tolist(), index=data.index)\n",
    "    data.drop('hierarchy', axis=1, inplace=True)\n",
    "\n",
    "    return data\n",
    "\n",
    "stores_per_state = 5\n",
    "states = ('CO', 'TX', 'CA')\n",
    "\n",
    "categories = ('FOOD', 'APPAREL')\n",
    "skus_per_dept = 10\n",
    "\n",
    "fake_hierarchy = tuple(((state, f\"{state}_{store_id}\", cat, f\"{cat}_{sku}\") for cat in categories for sku in range(skus_per_dept) for state in states for store_id in range(stores_per_state)))\n",
    "\n",
    "df = pd.concat([assign_fake_hierarchy(data, hierarchy_tuple) for hierarchy_tuple in fake_hierarchy])"
   ],
   "outputs": [],
   "metadata": {}
  },
  {
   "cell_type": "code",
   "execution_count": 4,
   "source": [
    "df"
   ],
   "outputs": [
    {
     "output_type": "execute_result",
     "data": {
      "text/html": [
       "<div>\n",
       "<style scoped>\n",
       "    .dataframe tbody tr th:only-of-type {\n",
       "        vertical-align: middle;\n",
       "    }\n",
       "\n",
       "    .dataframe tbody tr th {\n",
       "        vertical-align: top;\n",
       "    }\n",
       "\n",
       "    .dataframe thead th {\n",
       "        text-align: right;\n",
       "    }\n",
       "</style>\n",
       "<table border=\"1\" class=\"dataframe\">\n",
       "  <thead>\n",
       "    <tr style=\"text-align: right;\">\n",
       "      <th></th>\n",
       "      <th>ds</th>\n",
       "      <th>y</th>\n",
       "      <th>state</th>\n",
       "      <th>store_id</th>\n",
       "      <th>category</th>\n",
       "      <th>sku</th>\n",
       "    </tr>\n",
       "  </thead>\n",
       "  <tbody>\n",
       "    <tr>\n",
       "      <th>0</th>\n",
       "      <td>1992-01-01</td>\n",
       "      <td>146376</td>\n",
       "      <td>CA</td>\n",
       "      <td>CA_4</td>\n",
       "      <td>APPAREL</td>\n",
       "      <td>APPAREL_9</td>\n",
       "    </tr>\n",
       "    <tr>\n",
       "      <th>1</th>\n",
       "      <td>1992-02-01</td>\n",
       "      <td>147079</td>\n",
       "      <td>CA</td>\n",
       "      <td>CA_4</td>\n",
       "      <td>APPAREL</td>\n",
       "      <td>APPAREL_9</td>\n",
       "    </tr>\n",
       "    <tr>\n",
       "      <th>2</th>\n",
       "      <td>1992-03-01</td>\n",
       "      <td>159336</td>\n",
       "      <td>CA</td>\n",
       "      <td>CA_4</td>\n",
       "      <td>APPAREL</td>\n",
       "      <td>APPAREL_9</td>\n",
       "    </tr>\n",
       "    <tr>\n",
       "      <th>3</th>\n",
       "      <td>1992-04-01</td>\n",
       "      <td>163669</td>\n",
       "      <td>CA</td>\n",
       "      <td>CA_4</td>\n",
       "      <td>APPAREL</td>\n",
       "      <td>APPAREL_9</td>\n",
       "    </tr>\n",
       "    <tr>\n",
       "      <th>4</th>\n",
       "      <td>1992-05-01</td>\n",
       "      <td>170068</td>\n",
       "      <td>CA</td>\n",
       "      <td>CA_4</td>\n",
       "      <td>APPAREL</td>\n",
       "      <td>APPAREL_9</td>\n",
       "    </tr>\n",
       "    <tr>\n",
       "      <th>...</th>\n",
       "      <td>...</td>\n",
       "      <td>...</td>\n",
       "      <td>...</td>\n",
       "      <td>...</td>\n",
       "      <td>...</td>\n",
       "      <td>...</td>\n",
       "    </tr>\n",
       "    <tr>\n",
       "      <th>288</th>\n",
       "      <td>2016-01-01</td>\n",
       "      <td>400928</td>\n",
       "      <td>CA</td>\n",
       "      <td>CA_4</td>\n",
       "      <td>APPAREL</td>\n",
       "      <td>APPAREL_9</td>\n",
       "    </tr>\n",
       "    <tr>\n",
       "      <th>289</th>\n",
       "      <td>2016-02-01</td>\n",
       "      <td>413554</td>\n",
       "      <td>CA</td>\n",
       "      <td>CA_4</td>\n",
       "      <td>APPAREL</td>\n",
       "      <td>APPAREL_9</td>\n",
       "    </tr>\n",
       "    <tr>\n",
       "      <th>290</th>\n",
       "      <td>2016-03-01</td>\n",
       "      <td>460093</td>\n",
       "      <td>CA</td>\n",
       "      <td>CA_4</td>\n",
       "      <td>APPAREL</td>\n",
       "      <td>APPAREL_9</td>\n",
       "    </tr>\n",
       "    <tr>\n",
       "      <th>291</th>\n",
       "      <td>2016-04-01</td>\n",
       "      <td>450935</td>\n",
       "      <td>CA</td>\n",
       "      <td>CA_4</td>\n",
       "      <td>APPAREL</td>\n",
       "      <td>APPAREL_9</td>\n",
       "    </tr>\n",
       "    <tr>\n",
       "      <th>292</th>\n",
       "      <td>2016-05-01</td>\n",
       "      <td>471421</td>\n",
       "      <td>CA</td>\n",
       "      <td>CA_4</td>\n",
       "      <td>APPAREL</td>\n",
       "      <td>APPAREL_9</td>\n",
       "    </tr>\n",
       "  </tbody>\n",
       "</table>\n",
       "<p>87900 rows × 6 columns</p>\n",
       "</div>"
      ],
      "text/plain": [
       "             ds       y state store_id category        sku\n",
       "0    1992-01-01  146376    CA     CA_4  APPAREL  APPAREL_9\n",
       "1    1992-02-01  147079    CA     CA_4  APPAREL  APPAREL_9\n",
       "2    1992-03-01  159336    CA     CA_4  APPAREL  APPAREL_9\n",
       "3    1992-04-01  163669    CA     CA_4  APPAREL  APPAREL_9\n",
       "4    1992-05-01  170068    CA     CA_4  APPAREL  APPAREL_9\n",
       "..          ...     ...   ...      ...      ...        ...\n",
       "288  2016-01-01  400928    CA     CA_4  APPAREL  APPAREL_9\n",
       "289  2016-02-01  413554    CA     CA_4  APPAREL  APPAREL_9\n",
       "290  2016-03-01  460093    CA     CA_4  APPAREL  APPAREL_9\n",
       "291  2016-04-01  450935    CA     CA_4  APPAREL  APPAREL_9\n",
       "292  2016-05-01  471421    CA     CA_4  APPAREL  APPAREL_9\n",
       "\n",
       "[87900 rows x 6 columns]"
      ]
     },
     "metadata": {},
     "execution_count": 4
    }
   ],
   "metadata": {}
  },
  {
   "cell_type": "code",
   "execution_count": 82,
   "source": [],
   "outputs": [
    {
     "output_type": "execute_result",
     "data": {
      "text/html": [
       "<div>\n",
       "<style scoped>\n",
       "    .dataframe tbody tr th:only-of-type {\n",
       "        vertical-align: middle;\n",
       "    }\n",
       "\n",
       "    .dataframe tbody tr th {\n",
       "        vertical-align: top;\n",
       "    }\n",
       "\n",
       "    .dataframe thead th {\n",
       "        text-align: right;\n",
       "    }\n",
       "</style>\n",
       "<table border=\"1\" class=\"dataframe\">\n",
       "  <thead>\n",
       "    <tr style=\"text-align: right;\">\n",
       "      <th></th>\n",
       "      <th>ds</th>\n",
       "      <th>y</th>\n",
       "      <th>state</th>\n",
       "      <th>store_id</th>\n",
       "      <th>category</th>\n",
       "      <th>sku</th>\n",
       "    </tr>\n",
       "  </thead>\n",
       "  <tbody>\n",
       "    <tr>\n",
       "      <th>0</th>\n",
       "      <td>1992-01-01</td>\n",
       "      <td>146376</td>\n",
       "      <td>CA</td>\n",
       "      <td>CA_4</td>\n",
       "      <td>APPAREL</td>\n",
       "      <td>APPAREL_9</td>\n",
       "    </tr>\n",
       "    <tr>\n",
       "      <th>1</th>\n",
       "      <td>1992-02-01</td>\n",
       "      <td>147079</td>\n",
       "      <td>CA</td>\n",
       "      <td>CA_4</td>\n",
       "      <td>APPAREL</td>\n",
       "      <td>APPAREL_9</td>\n",
       "    </tr>\n",
       "    <tr>\n",
       "      <th>2</th>\n",
       "      <td>1992-03-01</td>\n",
       "      <td>159336</td>\n",
       "      <td>CA</td>\n",
       "      <td>CA_4</td>\n",
       "      <td>APPAREL</td>\n",
       "      <td>APPAREL_9</td>\n",
       "    </tr>\n",
       "    <tr>\n",
       "      <th>3</th>\n",
       "      <td>1992-04-01</td>\n",
       "      <td>163669</td>\n",
       "      <td>CA</td>\n",
       "      <td>CA_4</td>\n",
       "      <td>APPAREL</td>\n",
       "      <td>APPAREL_9</td>\n",
       "    </tr>\n",
       "    <tr>\n",
       "      <th>4</th>\n",
       "      <td>1992-05-01</td>\n",
       "      <td>170068</td>\n",
       "      <td>CA</td>\n",
       "      <td>CA_4</td>\n",
       "      <td>APPAREL</td>\n",
       "      <td>APPAREL_9</td>\n",
       "    </tr>\n",
       "    <tr>\n",
       "      <th>...</th>\n",
       "      <td>...</td>\n",
       "      <td>...</td>\n",
       "      <td>...</td>\n",
       "      <td>...</td>\n",
       "      <td>...</td>\n",
       "      <td>...</td>\n",
       "    </tr>\n",
       "    <tr>\n",
       "      <th>288</th>\n",
       "      <td>2016-01-01</td>\n",
       "      <td>400928</td>\n",
       "      <td>CA</td>\n",
       "      <td>CA_4</td>\n",
       "      <td>APPAREL</td>\n",
       "      <td>APPAREL_9</td>\n",
       "    </tr>\n",
       "    <tr>\n",
       "      <th>289</th>\n",
       "      <td>2016-02-01</td>\n",
       "      <td>413554</td>\n",
       "      <td>CA</td>\n",
       "      <td>CA_4</td>\n",
       "      <td>APPAREL</td>\n",
       "      <td>APPAREL_9</td>\n",
       "    </tr>\n",
       "    <tr>\n",
       "      <th>290</th>\n",
       "      <td>2016-03-01</td>\n",
       "      <td>460093</td>\n",
       "      <td>CA</td>\n",
       "      <td>CA_4</td>\n",
       "      <td>APPAREL</td>\n",
       "      <td>APPAREL_9</td>\n",
       "    </tr>\n",
       "    <tr>\n",
       "      <th>291</th>\n",
       "      <td>2016-04-01</td>\n",
       "      <td>450935</td>\n",
       "      <td>CA</td>\n",
       "      <td>CA_4</td>\n",
       "      <td>APPAREL</td>\n",
       "      <td>APPAREL_9</td>\n",
       "    </tr>\n",
       "    <tr>\n",
       "      <th>292</th>\n",
       "      <td>2016-05-01</td>\n",
       "      <td>471421</td>\n",
       "      <td>CA</td>\n",
       "      <td>CA_4</td>\n",
       "      <td>APPAREL</td>\n",
       "      <td>APPAREL_9</td>\n",
       "    </tr>\n",
       "  </tbody>\n",
       "</table>\n",
       "<p>87900 rows × 6 columns</p>\n",
       "</div>"
      ],
      "text/plain": [
       "             ds       y state store_id category        sku\n",
       "0    1992-01-01  146376    CA     CA_4  APPAREL  APPAREL_9\n",
       "1    1992-02-01  147079    CA     CA_4  APPAREL  APPAREL_9\n",
       "2    1992-03-01  159336    CA     CA_4  APPAREL  APPAREL_9\n",
       "3    1992-04-01  163669    CA     CA_4  APPAREL  APPAREL_9\n",
       "4    1992-05-01  170068    CA     CA_4  APPAREL  APPAREL_9\n",
       "..          ...     ...   ...      ...      ...        ...\n",
       "288  2016-01-01  400928    CA     CA_4  APPAREL  APPAREL_9\n",
       "289  2016-02-01  413554    CA     CA_4  APPAREL  APPAREL_9\n",
       "290  2016-03-01  460093    CA     CA_4  APPAREL  APPAREL_9\n",
       "291  2016-04-01  450935    CA     CA_4  APPAREL  APPAREL_9\n",
       "292  2016-05-01  471421    CA     CA_4  APPAREL  APPAREL_9\n",
       "\n",
       "[87900 rows x 6 columns]"
      ]
     },
     "metadata": {},
     "execution_count": 82
    }
   ],
   "metadata": {}
  },
  {
   "cell_type": "code",
   "execution_count": 10,
   "source": [
    "fframe = ff.ForecastFrame(data=data, target=\"sales\", datetime_column=\"datetime\", hierarchy=['dept_id', 'cat_id', 'item_id', 'state_id', 'store_id'])"
   ],
   "outputs": [],
   "metadata": {}
  },
  {
   "cell_type": "markdown",
   "source": [
    "### Prophet"
   ],
   "metadata": {}
  },
  {
   "cell_type": "code",
   "execution_count": 11,
   "source": [
    "fframe.predict(model=\"prophet\", future_periods=10, weekly_seasonality=True, daily_seasonality=True)\n"
   ],
   "outputs": [
    {
     "output_type": "stream",
     "name": "stderr",
     "text": [
      "Importing plotly failed. Interactive plots will not work.\n"
     ]
    },
    {
     "output_type": "stream",
     "name": "stdout",
     "text": [
      "Initial log joint probability = -11.1406\n",
      "    Iter      log prob        ||dx||      ||grad||       alpha      alpha0  # evals  Notes \n",
      "      99       20132.9   0.000328433       349.049      0.4844      0.4844      119   \n",
      "    Iter      log prob        ||dx||      ||grad||       alpha      alpha0  # evals  Notes \n",
      "     199       20134.2    0.00131062         341.3           1           1      233   \n",
      "    Iter      log prob        ||dx||      ||grad||       alpha      alpha0  # evals  Notes \n",
      "     299       20134.7   0.000677487        106.06           1           1      353   \n",
      "    Iter      log prob        ||dx||      ||grad||       alpha      alpha0  # evals  Notes \n",
      "     389       20134.9   4.33533e-08       82.4179    0.001247      0.3087      467   \n",
      "Optimization terminated normally: \n",
      "  Convergence detected: relative change in objective function was below tolerance\n"
     ]
    },
    {
     "output_type": "execute_result",
     "data": {
      "text/plain": [
       "<AxesSubplot:xlabel='datetime'>"
      ]
     },
     "metadata": {},
     "execution_count": 11
    },
    {
     "output_type": "display_data",
     "data": {
      "image/png": "[encoded data removed]",
      "text/plain": [
       "<Figure size 432x288 with 1 Axes>"
      ]
     },
     "metadata": {
      "needs_background": "light"
     }
    }
   ],
   "metadata": {}
  },
  {
   "cell_type": "markdown",
   "source": [],
   "metadata": {}
  },
  {
   "cell_type": "code",
   "execution_count": 32,
   "source": [
    "predictions = fframe.get_predictions()\n",
    "predictions['hierarchy'] = predictions['state_id'] + \"/\" +  predictions['store_id'] + \"/\" +  predictions['cat_id'] + \"/\" +  predictions['dept_id'] + \"/\" +  predictions['item_id'] \n",
    "predictions = predictions[predictions['hierarchy'] == \"CA/CA_1/FOODS/FOODS_1/FOODS_1_001\"]"
   ],
   "outputs": [],
   "metadata": {}
  },
  {
   "cell_type": "code",
   "execution_count": 34,
   "source": [
    "predictions.plot.line()"
   ],
   "outputs": [
    {
     "output_type": "execute_result",
     "data": {
      "text/plain": [
       "<AxesSubplot:xlabel='datetime'>"
      ]
     },
     "metadata": {},
     "execution_count": 34
    },
    {
     "output_type": "display_data",
     "data": {
      "image/png": "[encoded data removed]",
      "text/plain": [
       "<Figure size 432x288 with 1 Axes>"
      ]
     },
     "metadata": {
      "needs_background": "light"
     }
    }
   ],
   "metadata": {}
  },
  {
   "cell_type": "code",
   "execution_count": 33,
   "source": [
    "predictions.reset_index().pivot(index='datetime', columns=\"hierarchy\", values='sales').plot.line()"
   ],
   "outputs": [
    {
     "output_type": "execute_result",
     "data": {
      "text/plain": [
       "<AxesSubplot:xlabel='datetime'>"
      ]
     },
     "metadata": {},
     "execution_count": 33
    },
    {
     "output_type": "display_data",
     "data": {
      "image/png": "[encoded data removed]",
      "text/plain": [
       "<Figure size 432x288 with 1 Axes>"
      ]
     },
     "metadata": {
      "needs_background": "light"
     }
    }
   ],
   "metadata": {}
  },
  {
   "cell_type": "code",
   "execution_count": 27,
   "source": [
    "predictions[['sales', 'hierarchy']].plot.line(subplots=True)"
   ],
   "outputs": [
    {
     "output_type": "execute_result",
     "data": {
      "text/plain": [
       "array([<AxesSubplot:xlabel='datetime'>], dtype=object)"
      ]
     },
     "metadata": {},
     "execution_count": 27
    },
    {
     "output_type": "display_data",
     "data": {
      "image/png": "[encoded data removed]",
      "text/plain": [
       "<Figure size 432x288 with 1 Axes>"
      ]
     },
     "metadata": {
      "needs_background": "light"
     }
    }
   ],
   "metadata": {}
  },
  {
   "cell_type": "code",
   "execution_count": 7,
   "source": [
    "fframe.cross_validate(folds=3, model=\"prophet\")"
   ],
   "outputs": [],
   "metadata": {}
  },
  {
   "cell_type": "code",
   "execution_count": 8,
   "source": [
    "# check that the latest round of predictions stored in the object were created using the params found in cross-validation\n",
    "assert fframe.model_object.seasonality_mode == fframe.cross_validations[-1][\"best_params\"][\"seasonality_mode\"]"
   ],
   "outputs": [],
   "metadata": {}
  },
  {
   "cell_type": "code",
   "execution_count": 9,
   "source": [
    "fframe.get_cross_validation_errors()"
   ],
   "outputs": [
    {
     "output_type": "execute_result",
     "data": {
      "text/plain": [
       "[{'In-Sample':              Actuals    Predictions  Absolute Percent Error  Absolute Error  \\\n",
       "  count      74.000000      74.000000               74.000000       74.000000   \n",
       "  mean   198509.472973  198491.867873                0.050104    10083.191491   \n",
       "  std     26907.419353   22375.499866                0.049940    10943.462357   \n",
       "  min    146376.000000  155959.330002                0.000153       26.167567   \n",
       "  25%    176693.500000  181545.230686                0.012393     2298.031114   \n",
       "  50%    199172.500000  197959.748690                0.028598     5685.623925   \n",
       "  75%    217961.000000  214673.898390                0.074053    14046.914810   \n",
       "  max    271054.000000  240194.669356                0.179570    43296.390865   \n",
       "  \n",
       "         Squared Error  \n",
       "  count   7.400000e+01  \n",
       "  mean    2.198117e+08  \n",
       "  std     4.325281e+08  \n",
       "  min     6.847415e+02  \n",
       "  25%     5.281192e+06  \n",
       "  50%     3.232724e+07  \n",
       "  75%     1.973184e+08  \n",
       "  max     1.874577e+09  ,\n",
       "  'Out-of-Sample':              Actuals    Predictions  Absolute Percent Error  Absolute Error  \\\n",
       "  count      73.000000      73.000000               73.000000       73.000000   \n",
       "  mean   276016.273973  272533.766875                0.049378    13935.948850   \n",
       "  std     28141.705902   22114.991241                0.043173    13424.797087   \n",
       "  min    218126.000000  225889.467947                0.000094       26.371460   \n",
       "  25%    253905.000000  254729.428495                0.017589     4748.408498   \n",
       "  50%    279098.000000  274791.348894                0.038186    10831.032435   \n",
       "  75%    293890.000000  290014.591502                0.075675    20732.996713   \n",
       "  max    357577.000000  315645.971775                0.182875    58091.865723   \n",
       "  \n",
       "         Squared Error  \n",
       "  count   7.300000e+01  \n",
       "  mean    3.719670e+08  \n",
       "  std     7.159059e+08  \n",
       "  min     6.954539e+02  \n",
       "  25%     2.254738e+07  \n",
       "  50%     1.173113e+08  \n",
       "  75%     4.298572e+08  \n",
       "  max     3.374665e+09  },\n",
       " {'In-Sample':              Actuals    Predictions  Absolute Percent Error  Absolute Error  \\\n",
       "  count     147.000000     147.000000              147.000000      147.000000   \n",
       "  mean   236999.244898  237002.309086                0.047994    11513.644210   \n",
       "  std     47587.820019   44479.089402                0.048703    12490.885925   \n",
       "  min    146376.000000  156251.525991                0.000168       38.761859   \n",
       "  25%    199172.500000  198246.189335                0.011341     2576.461035   \n",
       "  50%    234503.000000  237374.875048                0.026836     6401.676672   \n",
       "  75%    277802.500000  275076.466023                0.070991    17804.519661   \n",
       "  max    357577.000000  316714.264259                0.182934    56432.536598   \n",
       "  \n",
       "         Squared Error  \n",
       "  count   1.470000e+02  \n",
       "  mean    2.875249e+08  \n",
       "  std     5.607750e+08  \n",
       "  min     1.502482e+03  \n",
       "  25%     6.638586e+06  \n",
       "  50%     4.098146e+07  \n",
       "  75%     3.170160e+08  \n",
       "  max     3.184631e+09  ,\n",
       "  'Out-of-Sample':              Actuals    Predictions  Absolute Percent Error  Absolute Error  \\\n",
       "  count      73.000000      73.000000               73.000000       73.000000   \n",
       "  mean   350454.054795  351687.625135                0.070227    24596.856413   \n",
       "  std     28628.669796   22486.376740                0.056739    19802.385480   \n",
       "  min    293261.000000  309839.431048                0.003117     1006.358270   \n",
       "  25%    328568.000000  334132.998185                0.025527     8131.478140   \n",
       "  50%    348796.000000  351410.713761                0.055135    19196.616521   \n",
       "  75%    372354.000000  368733.244407                0.090014    32594.801758   \n",
       "  max    426077.000000  394603.234273                0.215596    75176.222427   \n",
       "  \n",
       "         Squared Error  \n",
       "  count   7.300000e+01  \n",
       "  mean    9.917681e+08  \n",
       "  std     1.459259e+09  \n",
       "  min     1.012757e+06  \n",
       "  25%     6.612094e+07  \n",
       "  50%     3.685101e+08  \n",
       "  75%     1.062421e+09  \n",
       "  max     5.651464e+09  },\n",
       " {'In-Sample':              Actuals    Predictions  Absolute Percent Error  Absolute Error  \\\n",
       "  count     220.000000     220.000000              220.000000      220.000000   \n",
       "  mean   274645.613636  274641.659021                0.051162    14416.334496   \n",
       "  std     68162.567527   64790.545221                0.047257    14514.107540   \n",
       "  min    146376.000000  153817.986640                0.000220       49.640431   \n",
       "  25%    217961.000000  217964.348369                0.014195     3402.001562   \n",
       "  50%    277802.500000  277569.227309                0.034548     8998.383208   \n",
       "  75%    329124.250000  342503.013621                0.078495    21134.380489   \n",
       "  max    426077.000000  369259.674484                0.191646    80363.191249   \n",
       "  \n",
       "         Squared Error  \n",
       "  count   2.200000e+02  \n",
       "  mean    4.175325e+08  \n",
       "  std     8.131675e+08  \n",
       "  min     2.464172e+03  \n",
       "  25%     1.157416e+07  \n",
       "  50%     8.097154e+07  \n",
       "  75%     4.466622e+08  \n",
       "  max     6.458243e+09  ,\n",
       "  'Out-of-Sample':              Actuals    Predictions  Absolute Percent Error  Absolute Error  \\\n",
       "  count      73.000000      73.000000               73.000000       73.000000   \n",
       "  mean   412418.616438  364303.180273                0.115922    50254.139324   \n",
       "  std     38360.770185    7508.214156                0.067667    33280.180547   \n",
       "  min    335608.000000  348407.150276                0.002860     1037.306497   \n",
       "  25%    384600.000000  357643.810446                0.064132    24418.639168   \n",
       "  50%    414275.000000  364603.694887                0.114679    48264.983103   \n",
       "  75%    438217.000000  369328.967625                0.159236    69779.853384   \n",
       "  max    518253.000000  381148.353232                0.293083   151891.289292   \n",
       "  \n",
       "         Squared Error  \n",
       "  count   7.300000e+01  \n",
       "  mean    3.617877e+09  \n",
       "  std     4.392012e+09  \n",
       "  min     1.076005e+06  \n",
       "  25%     5.962699e+08  \n",
       "  50%     2.329509e+09  \n",
       "  75%     4.869228e+09  \n",
       "  max     2.307096e+10  }]"
      ]
     },
     "metadata": {},
     "execution_count": 9
    }
   ],
   "metadata": {}
  },
  {
   "cell_type": "markdown",
   "source": [
    "### LightGBM"
   ],
   "metadata": {}
  },
  {
   "cell_type": "code",
   "execution_count": 10,
   "source": [
    "# Predictions are weak because our model doesn't have any features to grip on\n",
    "# Note we can pass in lightgbm params as kwargs, such as learning_rate\n",
    "fframe.predict(model=\"lightgbm\", future_periods=10, learning_rate=.04)\n",
    "fframe.get_predictions().plot.line()"
   ],
   "outputs": [
    {
     "output_type": "execute_result",
     "data": {
      "text/plain": [
       "<AxesSubplot:xlabel='ds'>"
      ]
     },
     "metadata": {},
     "execution_count": 10
    },
    {
     "output_type": "display_data",
     "data": {
      "image/png": "[encoded data removed]",
      "text/plain": [
       "<Figure size 432x288 with 1 Axes>"
      ]
     },
     "metadata": {
      "needs_background": "light"
     }
    }
   ],
   "metadata": {}
  },
  {
   "cell_type": "code",
   "execution_count": 11,
   "source": [
    "# Let's add some features to help our model out\n",
    "#fframe.calc_datetime_features()\n",
    "fframe.lag_features(features=[fframe.target], lags=[1, 2, 3, 12]) # lagged features for 1 month ago, 2 months ago ..., 12 months ago\n",
    "fframe.calc_statistical_features(features=[fframe.target], windows=[3, 6, 12], aggregations=['mean', 'std']) # 3, 6, and 12 month rolling aggregations for both mean and std\n",
    "fframe.calc_ewma(fframe.target, windows=[3, 6, 12]) # 3, 6, 12 month exponential weighted moving averages\n",
    "\n",
    "fframe.get_sample()"
   ],
   "outputs": [
    {
     "output_type": "execute_result",
     "data": {
      "text/html": [
       "<div>\n",
       "<style scoped>\n",
       "    .dataframe tbody tr th:only-of-type {\n",
       "        vertical-align: middle;\n",
       "    }\n",
       "\n",
       "    .dataframe tbody tr th {\n",
       "        vertical-align: top;\n",
       "    }\n",
       "\n",
       "    .dataframe thead th {\n",
       "        text-align: right;\n",
       "    }\n",
       "</style>\n",
       "<table border=\"1\" class=\"dataframe\">\n",
       "  <thead>\n",
       "    <tr style=\"text-align: right;\">\n",
       "      <th></th>\n",
       "      <th>y</th>\n",
       "      <th>y_lag1</th>\n",
       "      <th>y_lag2</th>\n",
       "      <th>y_lag3</th>\n",
       "      <th>y_lag12</th>\n",
       "      <th>y_mean_roll3_lag1</th>\n",
       "      <th>y_std_roll3_lag1</th>\n",
       "      <th>y_mean_roll6_lag1</th>\n",
       "      <th>y_std_roll6_lag1</th>\n",
       "      <th>y_mean_roll12_lag1</th>\n",
       "      <th>y_std_roll12_lag1</th>\n",
       "      <th>y_ewma_roll3_lag1</th>\n",
       "      <th>y_ewma_roll6_lag1</th>\n",
       "      <th>y_ewma_roll12_lag1</th>\n",
       "    </tr>\n",
       "    <tr>\n",
       "      <th>ds</th>\n",
       "      <th></th>\n",
       "      <th></th>\n",
       "      <th></th>\n",
       "      <th></th>\n",
       "      <th></th>\n",
       "      <th></th>\n",
       "      <th></th>\n",
       "      <th></th>\n",
       "      <th></th>\n",
       "      <th></th>\n",
       "      <th></th>\n",
       "      <th></th>\n",
       "      <th></th>\n",
       "      <th></th>\n",
       "    </tr>\n",
       "  </thead>\n",
       "  <tbody>\n",
       "    <tr>\n",
       "      <th>1992-01-01</th>\n",
       "      <td>146376</td>\n",
       "      <td>NaN</td>\n",
       "      <td>NaN</td>\n",
       "      <td>NaN</td>\n",
       "      <td>NaN</td>\n",
       "      <td>NaN</td>\n",
       "      <td>NaN</td>\n",
       "      <td>NaN</td>\n",
       "      <td>NaN</td>\n",
       "      <td>NaN</td>\n",
       "      <td>NaN</td>\n",
       "      <td>NaN</td>\n",
       "      <td>NaN</td>\n",
       "      <td>NaN</td>\n",
       "    </tr>\n",
       "    <tr>\n",
       "      <th>1992-02-01</th>\n",
       "      <td>147079</td>\n",
       "      <td>146376.0</td>\n",
       "      <td>NaN</td>\n",
       "      <td>NaN</td>\n",
       "      <td>NaN</td>\n",
       "      <td>146376.0</td>\n",
       "      <td>NaN</td>\n",
       "      <td>146376.0</td>\n",
       "      <td>NaN</td>\n",
       "      <td>146376.0</td>\n",
       "      <td>NaN</td>\n",
       "      <td>NaN</td>\n",
       "      <td>NaN</td>\n",
       "      <td>NaN</td>\n",
       "    </tr>\n",
       "    <tr>\n",
       "      <th>1992-03-01</th>\n",
       "      <td>159336</td>\n",
       "      <td>147079.0</td>\n",
       "      <td>146376.0</td>\n",
       "      <td>NaN</td>\n",
       "      <td>NaN</td>\n",
       "      <td>147079.0</td>\n",
       "      <td>NaN</td>\n",
       "      <td>147079.0</td>\n",
       "      <td>NaN</td>\n",
       "      <td>147079.0</td>\n",
       "      <td>NaN</td>\n",
       "      <td>NaN</td>\n",
       "      <td>NaN</td>\n",
       "      <td>NaN</td>\n",
       "    </tr>\n",
       "    <tr>\n",
       "      <th>1992-04-01</th>\n",
       "      <td>163669</td>\n",
       "      <td>159336.0</td>\n",
       "      <td>147079.0</td>\n",
       "      <td>146376.0</td>\n",
       "      <td>NaN</td>\n",
       "      <td>159336.0</td>\n",
       "      <td>NaN</td>\n",
       "      <td>159336.0</td>\n",
       "      <td>NaN</td>\n",
       "      <td>159336.0</td>\n",
       "      <td>NaN</td>\n",
       "      <td>153982.571429</td>\n",
       "      <td>NaN</td>\n",
       "      <td>NaN</td>\n",
       "    </tr>\n",
       "    <tr>\n",
       "      <th>1992-05-01</th>\n",
       "      <td>170068</td>\n",
       "      <td>163669.0</td>\n",
       "      <td>159336.0</td>\n",
       "      <td>147079.0</td>\n",
       "      <td>NaN</td>\n",
       "      <td>163669.0</td>\n",
       "      <td>NaN</td>\n",
       "      <td>163669.0</td>\n",
       "      <td>NaN</td>\n",
       "      <td>163669.0</td>\n",
       "      <td>NaN</td>\n",
       "      <td>159148.666667</td>\n",
       "      <td>NaN</td>\n",
       "      <td>NaN</td>\n",
       "    </tr>\n",
       "    <tr>\n",
       "      <th>...</th>\n",
       "      <td>...</td>\n",
       "      <td>...</td>\n",
       "      <td>...</td>\n",
       "      <td>...</td>\n",
       "      <td>...</td>\n",
       "      <td>...</td>\n",
       "      <td>...</td>\n",
       "      <td>...</td>\n",
       "      <td>...</td>\n",
       "      <td>...</td>\n",
       "      <td>...</td>\n",
       "      <td>...</td>\n",
       "      <td>...</td>\n",
       "      <td>...</td>\n",
       "    </tr>\n",
       "    <tr>\n",
       "      <th>2016-01-01</th>\n",
       "      <td>400928</td>\n",
       "      <td>518253.0</td>\n",
       "      <td>444507.0</td>\n",
       "      <td>444959.0</td>\n",
       "      <td>397252.0</td>\n",
       "      <td>518253.0</td>\n",
       "      <td>NaN</td>\n",
       "      <td>518253.0</td>\n",
       "      <td>NaN</td>\n",
       "      <td>518253.0</td>\n",
       "      <td>NaN</td>\n",
       "      <td>481216.663058</td>\n",
       "      <td>465590.525363</td>\n",
       "      <td>454208.103167</td>\n",
       "    </tr>\n",
       "    <tr>\n",
       "      <th>2016-02-01</th>\n",
       "      <td>413554</td>\n",
       "      <td>400928.0</td>\n",
       "      <td>518253.0</td>\n",
       "      <td>444507.0</td>\n",
       "      <td>386935.0</td>\n",
       "      <td>400928.0</td>\n",
       "      <td>NaN</td>\n",
       "      <td>400928.0</td>\n",
       "      <td>NaN</td>\n",
       "      <td>400928.0</td>\n",
       "      <td>NaN</td>\n",
       "      <td>441072.331529</td>\n",
       "      <td>447115.518116</td>\n",
       "      <td>446011.164218</td>\n",
       "    </tr>\n",
       "    <tr>\n",
       "      <th>2016-03-01</th>\n",
       "      <td>460093</td>\n",
       "      <td>413554.0</td>\n",
       "      <td>400928.0</td>\n",
       "      <td>518253.0</td>\n",
       "      <td>444110.0</td>\n",
       "      <td>413554.0</td>\n",
       "      <td>NaN</td>\n",
       "      <td>413554.0</td>\n",
       "      <td>NaN</td>\n",
       "      <td>413554.0</td>\n",
       "      <td>NaN</td>\n",
       "      <td>427313.165764</td>\n",
       "      <td>437526.512940</td>\n",
       "      <td>441017.754338</td>\n",
       "    </tr>\n",
       "    <tr>\n",
       "      <th>2016-04-01</th>\n",
       "      <td>450935</td>\n",
       "      <td>460093.0</td>\n",
       "      <td>413554.0</td>\n",
       "      <td>400928.0</td>\n",
       "      <td>438217.0</td>\n",
       "      <td>460093.0</td>\n",
       "      <td>NaN</td>\n",
       "      <td>460093.0</td>\n",
       "      <td>NaN</td>\n",
       "      <td>460093.0</td>\n",
       "      <td>NaN</td>\n",
       "      <td>443703.082882</td>\n",
       "      <td>443974.080672</td>\n",
       "      <td>443952.407517</td>\n",
       "    </tr>\n",
       "    <tr>\n",
       "      <th>2016-05-01</th>\n",
       "      <td>471421</td>\n",
       "      <td>450935.0</td>\n",
       "      <td>460093.0</td>\n",
       "      <td>413554.0</td>\n",
       "      <td>462615.0</td>\n",
       "      <td>450935.0</td>\n",
       "      <td>NaN</td>\n",
       "      <td>450935.0</td>\n",
       "      <td>NaN</td>\n",
       "      <td>450935.0</td>\n",
       "      <td>NaN</td>\n",
       "      <td>447319.041441</td>\n",
       "      <td>445962.914765</td>\n",
       "      <td>445026.652514</td>\n",
       "    </tr>\n",
       "  </tbody>\n",
       "</table>\n",
       "<p>293 rows × 14 columns</p>\n",
       "</div>"
      ],
      "text/plain": [
       "                 y    y_lag1    y_lag2    y_lag3   y_lag12  y_mean_roll3_lag1  \\\n",
       "ds                                                                              \n",
       "1992-01-01  146376       NaN       NaN       NaN       NaN                NaN   \n",
       "1992-02-01  147079  146376.0       NaN       NaN       NaN           146376.0   \n",
       "1992-03-01  159336  147079.0  146376.0       NaN       NaN           147079.0   \n",
       "1992-04-01  163669  159336.0  147079.0  146376.0       NaN           159336.0   \n",
       "1992-05-01  170068  163669.0  159336.0  147079.0       NaN           163669.0   \n",
       "...            ...       ...       ...       ...       ...                ...   \n",
       "2016-01-01  400928  518253.0  444507.0  444959.0  397252.0           518253.0   \n",
       "2016-02-01  413554  400928.0  518253.0  444507.0  386935.0           400928.0   \n",
       "2016-03-01  460093  413554.0  400928.0  518253.0  444110.0           413554.0   \n",
       "2016-04-01  450935  460093.0  413554.0  400928.0  438217.0           460093.0   \n",
       "2016-05-01  471421  450935.0  460093.0  413554.0  462615.0           450935.0   \n",
       "\n",
       "            y_std_roll3_lag1  y_mean_roll6_lag1  y_std_roll6_lag1  \\\n",
       "ds                                                                  \n",
       "1992-01-01               NaN                NaN               NaN   \n",
       "1992-02-01               NaN           146376.0               NaN   \n",
       "1992-03-01               NaN           147079.0               NaN   \n",
       "1992-04-01               NaN           159336.0               NaN   \n",
       "1992-05-01               NaN           163669.0               NaN   \n",
       "...                      ...                ...               ...   \n",
       "2016-01-01               NaN           518253.0               NaN   \n",
       "2016-02-01               NaN           400928.0               NaN   \n",
       "2016-03-01               NaN           413554.0               NaN   \n",
       "2016-04-01               NaN           460093.0               NaN   \n",
       "2016-05-01               NaN           450935.0               NaN   \n",
       "\n",
       "            y_mean_roll12_lag1  y_std_roll12_lag1  y_ewma_roll3_lag1  \\\n",
       "ds                                                                     \n",
       "1992-01-01                 NaN                NaN                NaN   \n",
       "1992-02-01            146376.0                NaN                NaN   \n",
       "1992-03-01            147079.0                NaN                NaN   \n",
       "1992-04-01            159336.0                NaN      153982.571429   \n",
       "1992-05-01            163669.0                NaN      159148.666667   \n",
       "...                        ...                ...                ...   \n",
       "2016-01-01            518253.0                NaN      481216.663058   \n",
       "2016-02-01            400928.0                NaN      441072.331529   \n",
       "2016-03-01            413554.0                NaN      427313.165764   \n",
       "2016-04-01            460093.0                NaN      443703.082882   \n",
       "2016-05-01            450935.0                NaN      447319.041441   \n",
       "\n",
       "            y_ewma_roll6_lag1  y_ewma_roll12_lag1  \n",
       "ds                                                 \n",
       "1992-01-01                NaN                 NaN  \n",
       "1992-02-01                NaN                 NaN  \n",
       "1992-03-01                NaN                 NaN  \n",
       "1992-04-01                NaN                 NaN  \n",
       "1992-05-01                NaN                 NaN  \n",
       "...                       ...                 ...  \n",
       "2016-01-01      465590.525363       454208.103167  \n",
       "2016-02-01      447115.518116       446011.164218  \n",
       "2016-03-01      437526.512940       441017.754338  \n",
       "2016-04-01      443974.080672       443952.407517  \n",
       "2016-05-01      445962.914765       445026.652514  \n",
       "\n",
       "[293 rows x 14 columns]"
      ]
     },
     "metadata": {},
     "execution_count": 11
    }
   ],
   "metadata": {}
  },
  {
   "cell_type": "code",
   "execution_count": 12,
   "source": [
    "fframe.predict(model=\"lightgbm\", future_periods=10, learning_rate=.04)\n",
    "fframe.get_predictions().plot.line()"
   ],
   "outputs": [
    {
     "output_type": "execute_result",
     "data": {
      "text/plain": [
       "<AxesSubplot:xlabel='ds'>"
      ]
     },
     "metadata": {},
     "execution_count": 12
    },
    {
     "output_type": "display_data",
     "data": {
      "image/png": "[encoded data removed]",
      "text/plain": [
       "<Figure size 432x288 with 1 Axes>"
      ]
     },
     "metadata": {
      "needs_background": "light"
     }
    }
   ],
   "metadata": {}
  },
  {
   "cell_type": "code",
   "execution_count": 13,
   "source": [
    "fframe.get_errors()"
   ],
   "outputs": [
    {
     "output_type": "execute_result",
     "data": {
      "text/html": [
       "<div>\n",
       "<style scoped>\n",
       "    .dataframe tbody tr th:only-of-type {\n",
       "        vertical-align: middle;\n",
       "    }\n",
       "\n",
       "    .dataframe tbody tr th {\n",
       "        vertical-align: top;\n",
       "    }\n",
       "\n",
       "    .dataframe thead th {\n",
       "        text-align: right;\n",
       "    }\n",
       "</style>\n",
       "<table border=\"1\" class=\"dataframe\">\n",
       "  <thead>\n",
       "    <tr style=\"text-align: right;\">\n",
       "      <th></th>\n",
       "      <th>Actuals</th>\n",
       "      <th>Predictions</th>\n",
       "      <th>Absolute Percent Error</th>\n",
       "      <th>Absolute Error</th>\n",
       "      <th>Squared Error</th>\n",
       "    </tr>\n",
       "  </thead>\n",
       "  <tbody>\n",
       "    <tr>\n",
       "      <th>count</th>\n",
       "      <td>73.000000</td>\n",
       "      <td>73.000000</td>\n",
       "      <td>73.000000</td>\n",
       "      <td>73.000000</td>\n",
       "      <td>7.300000e+01</td>\n",
       "    </tr>\n",
       "    <tr>\n",
       "      <th>mean</th>\n",
       "      <td>412418.616438</td>\n",
       "      <td>364303.180273</td>\n",
       "      <td>0.115922</td>\n",
       "      <td>50254.139324</td>\n",
       "      <td>3.617877e+09</td>\n",
       "    </tr>\n",
       "    <tr>\n",
       "      <th>std</th>\n",
       "      <td>38360.770185</td>\n",
       "      <td>7508.214156</td>\n",
       "      <td>0.067667</td>\n",
       "      <td>33280.180547</td>\n",
       "      <td>4.392012e+09</td>\n",
       "    </tr>\n",
       "    <tr>\n",
       "      <th>min</th>\n",
       "      <td>335608.000000</td>\n",
       "      <td>348407.150276</td>\n",
       "      <td>0.002860</td>\n",
       "      <td>1037.306497</td>\n",
       "      <td>1.076005e+06</td>\n",
       "    </tr>\n",
       "    <tr>\n",
       "      <th>25%</th>\n",
       "      <td>384600.000000</td>\n",
       "      <td>357643.810446</td>\n",
       "      <td>0.064132</td>\n",
       "      <td>24418.639168</td>\n",
       "      <td>5.962699e+08</td>\n",
       "    </tr>\n",
       "    <tr>\n",
       "      <th>50%</th>\n",
       "      <td>414275.000000</td>\n",
       "      <td>364603.694887</td>\n",
       "      <td>0.114679</td>\n",
       "      <td>48264.983103</td>\n",
       "      <td>2.329509e+09</td>\n",
       "    </tr>\n",
       "    <tr>\n",
       "      <th>75%</th>\n",
       "      <td>438217.000000</td>\n",
       "      <td>369328.967625</td>\n",
       "      <td>0.159236</td>\n",
       "      <td>69779.853384</td>\n",
       "      <td>4.869228e+09</td>\n",
       "    </tr>\n",
       "    <tr>\n",
       "      <th>max</th>\n",
       "      <td>518253.000000</td>\n",
       "      <td>381148.353232</td>\n",
       "      <td>0.293083</td>\n",
       "      <td>151891.289292</td>\n",
       "      <td>2.307096e+10</td>\n",
       "    </tr>\n",
       "  </tbody>\n",
       "</table>\n",
       "</div>"
      ],
      "text/plain": [
       "             Actuals    Predictions  Absolute Percent Error  Absolute Error  \\\n",
       "count      73.000000      73.000000               73.000000       73.000000   \n",
       "mean   412418.616438  364303.180273                0.115922    50254.139324   \n",
       "std     38360.770185    7508.214156                0.067667    33280.180547   \n",
       "min    335608.000000  348407.150276                0.002860     1037.306497   \n",
       "25%    384600.000000  357643.810446                0.064132    24418.639168   \n",
       "50%    414275.000000  364603.694887                0.114679    48264.983103   \n",
       "75%    438217.000000  369328.967625                0.159236    69779.853384   \n",
       "max    518253.000000  381148.353232                0.293083   151891.289292   \n",
       "\n",
       "       Squared Error  \n",
       "count   7.300000e+01  \n",
       "mean    3.617877e+09  \n",
       "std     4.392012e+09  \n",
       "min     1.076005e+06  \n",
       "25%     5.962699e+08  \n",
       "50%     2.329509e+09  \n",
       "75%     4.869228e+09  \n",
       "max     2.307096e+10  "
      ]
     },
     "metadata": {},
     "execution_count": 13
    }
   ],
   "metadata": {}
  },
  {
   "cell_type": "code",
   "execution_count": 14,
   "source": [
    "fframe.cross_validate(folds=3, model=\"lightgbm\")"
   ],
   "outputs": [
    {
     "output_type": "stream",
     "name": "stdout",
     "text": [
      "Running fold 1 of 3 with train shape (74, 14) and test shape (73, 14)\n",
      "Running fold 2 of 3 with train shape (147, 14) and test shape (73, 14)\n",
      "Running fold 3 of 3 with train shape (220, 14) and test shape (73, 14)\n"
     ]
    }
   ],
   "metadata": {}
  },
  {
   "cell_type": "code",
   "execution_count": null,
   "source": [
    "fframe.get_cross_validation_errors()"
   ],
   "outputs": [],
   "metadata": {}
  }
 ]
}