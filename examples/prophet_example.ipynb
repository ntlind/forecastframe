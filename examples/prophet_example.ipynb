{
 "metadata": {
  "language_info": {
   "codemirror_mode": {
    "name": "ipython",
    "version": 3
   },
   "file_extension": ".py",
   "mimetype": "text/x-python",
   "name": "python",
   "nbconvert_exporter": "python",
   "pygments_lexer": "ipython3",
   "version": "3.8.5-final"
  },
  "orig_nbformat": 2,
  "kernelspec": {
   "name": "python3",
   "display_name": "Python 3",
   "language": "python"
  }
 },
 "nbformat": 4,
 "nbformat_minor": 2,
 "cells": [
  {
   "source": [
    "# Simple Prophet Examples"
   ],
   "cell_type": "markdown",
   "metadata": {}
  },
  {
   "cell_type": "code",
   "execution_count": 1,
   "metadata": {},
   "outputs": [],
   "source": [
    "%load_ext autoreload\n",
    "\n",
    "%autoreload 2"
   ]
  },
  {
   "cell_type": "code",
   "execution_count": 2,
   "metadata": {},
   "outputs": [
    {
     "output_type": "stream",
     "name": "stderr",
     "text": [
      "Importing plotly failed. Interactive plots will not work.\n"
     ]
    }
   ],
   "source": [
    "\n",
    "import numpy as np\n",
    "import pandas as pd\n",
    "import os \n",
    "import fbprophet\n",
    "\n",
    "# help ipython find our path\n",
    "directory = os.path.dirname(os.path.dirname(os.path.abspath('')))\n",
    "os.chdir(directory)\n",
    "\n",
    "import forecastframe as ff\n"
   ]
  },
  {
   "source": [
    "## Non-Hierarchical Example"
   ],
   "cell_type": "markdown",
   "metadata": {}
  },
  {
   "cell_type": "code",
   "execution_count": 3,
   "metadata": {},
   "outputs": [],
   "source": [
    "prophet_data = pd.read_csv(\"https://raw.githubusercontent.com/facebook/prophet/master/examples/example_yosemite_temps.csv\")\n",
    "fframe = ff.ForecastFrame(data=prophet_data, target=\"y\", datetime_column=\"ds\")"
   ]
  },
  {
   "cell_type": "code",
   "execution_count": 4,
   "metadata": {},
   "outputs": [
    {
     "output_type": "stream",
     "name": "stderr",
     "text": [
      "INFO:fbprophet:Disabling yearly seasonality. Run prophet with yearly_seasonality=True to override this.\n"
     ]
    },
    {
     "output_type": "execute_result",
     "data": {
      "text/plain": [
       "                     floor         t      trend  predicted_y_lower  \\\n",
       "ds                                                                   \n",
       "2017-05-01 00:00:00      0  0.000000  16.250680          22.097380   \n",
       "2017-05-01 00:05:00      0  0.000053  16.253167          21.868758   \n",
       "2017-05-01 00:10:00      0  0.000107  16.255653          21.173930   \n",
       "2017-05-01 00:15:00      0  0.000160  16.258140          21.017459   \n",
       "2017-05-01 00:20:00      0  0.000214  16.260627          20.528048   \n",
       "...                    ...       ...        ...                ...   \n",
       "2017-07-11 00:00:00      0  1.092308  21.681163          10.497768   \n",
       "2017-07-12 00:00:00      0  1.107692  21.391026           5.640545   \n",
       "2017-07-13 00:00:00      0  1.123077  21.100888          -2.112874   \n",
       "2017-07-14 00:00:00      0  1.138462  20.810751         -10.094406   \n",
       "2017-07-15 00:00:00      0  1.153846  20.520613         -17.277032   \n",
       "\n",
       "                     predicted_y_upper  trend_lower  trend_upper  \\\n",
       "ds                                                                 \n",
       "2017-05-01 00:00:00          33.349974    16.250680    16.250680   \n",
       "2017-05-01 00:05:00          32.977179    16.253167    16.253167   \n",
       "2017-05-01 00:10:00          32.603210    16.255653    16.255653   \n",
       "2017-05-01 00:15:00          32.084771    16.258140    16.258140   \n",
       "2017-05-01 00:20:00          31.219470    16.260627    16.260627   \n",
       "...                                ...          ...          ...   \n",
       "2017-07-11 00:00:00          57.276791     0.594430    44.143076   \n",
       "2017-07-12 00:00:00          63.811194    -5.901574    51.338513   \n",
       "2017-07-13 00:00:00          69.919151   -13.037524    57.798199   \n",
       "2017-07-14 00:00:00          77.680350   -19.852075    64.872750   \n",
       "2017-07-15 00:00:00          85.944057   -28.652670    73.239525   \n",
       "\n",
       "                     additive_terms  additive_terms_lower  \\\n",
       "ds                                                          \n",
       "2017-05-01 00:00:00       11.557169             11.557169   \n",
       "2017-05-01 00:05:00       11.114570             11.114570   \n",
       "2017-05-01 00:10:00       10.662177             10.662177   \n",
       "2017-05-01 00:15:00       10.200631             10.200631   \n",
       "2017-05-01 00:20:00        9.730617              9.730617   \n",
       "...                             ...                   ...   \n",
       "2017-07-11 00:00:00       11.218239             11.218239   \n",
       "2017-07-12 00:00:00       12.391866             12.391866   \n",
       "2017-07-13 00:00:00       11.569959             11.569959   \n",
       "2017-07-14 00:00:00       11.868885             11.868885   \n",
       "2017-07-15 00:00:00       11.274418             11.274418   \n",
       "\n",
       "                     additive_terms_upper      daily  daily_lower  \\\n",
       "ds                                                                  \n",
       "2017-05-01 00:00:00             11.557169  11.584714    11.584714   \n",
       "2017-05-01 00:05:00             11.114570  11.144808    11.144808   \n",
       "2017-05-01 00:10:00             10.662177  10.695127    10.695127   \n",
       "2017-05-01 00:15:00             10.200631  10.236310    10.236310   \n",
       "2017-05-01 00:20:00              9.730617   9.769043     9.769043   \n",
       "...                                   ...        ...          ...   \n",
       "2017-07-11 00:00:00             11.218239  11.584714    11.584714   \n",
       "2017-07-12 00:00:00             12.391866  11.584714    11.584714   \n",
       "2017-07-13 00:00:00             11.569959  11.584714    11.584714   \n",
       "2017-07-14 00:00:00             11.868885  11.584714    11.584714   \n",
       "2017-07-15 00:00:00             11.274418  11.584714    11.584714   \n",
       "\n",
       "                     daily_upper    weekly  weekly_lower  weekly_upper  \\\n",
       "ds                                                                       \n",
       "2017-05-01 00:00:00    11.584714 -0.027545     -0.027545     -0.027545   \n",
       "2017-05-01 00:05:00    11.144808 -0.030238     -0.030238     -0.030238   \n",
       "2017-05-01 00:10:00    10.695127 -0.032950     -0.032950     -0.032950   \n",
       "2017-05-01 00:15:00    10.236310 -0.035679     -0.035679     -0.035679   \n",
       "2017-05-01 00:20:00     9.769043 -0.038425     -0.038425     -0.038425   \n",
       "...                          ...       ...           ...           ...   \n",
       "2017-07-11 00:00:00    11.584714 -0.366475     -0.366475     -0.366475   \n",
       "2017-07-12 00:00:00    11.584714  0.807153      0.807153      0.807153   \n",
       "2017-07-13 00:00:00    11.584714 -0.014755     -0.014755     -0.014755   \n",
       "2017-07-14 00:00:00    11.584714  0.284171      0.284171      0.284171   \n",
       "2017-07-15 00:00:00    11.584714 -0.310296     -0.310296     -0.310296   \n",
       "\n",
       "                     multiplicative_terms  multiplicative_terms_lower  \\\n",
       "ds                                                                      \n",
       "2017-05-01 00:00:00                   0.0                         0.0   \n",
       "2017-05-01 00:05:00                   0.0                         0.0   \n",
       "2017-05-01 00:10:00                   0.0                         0.0   \n",
       "2017-05-01 00:15:00                   0.0                         0.0   \n",
       "2017-05-01 00:20:00                   0.0                         0.0   \n",
       "...                                   ...                         ...   \n",
       "2017-07-11 00:00:00                   0.0                         0.0   \n",
       "2017-07-12 00:00:00                   0.0                         0.0   \n",
       "2017-07-13 00:00:00                   0.0                         0.0   \n",
       "2017-07-14 00:00:00                   0.0                         0.0   \n",
       "2017-07-15 00:00:00                   0.0                         0.0   \n",
       "\n",
       "                     multiplicative_terms_upper  predicted_y  \n",
       "ds                                                            \n",
       "2017-05-01 00:00:00                         0.0    27.807849  \n",
       "2017-05-01 00:05:00                         0.0    27.367737  \n",
       "2017-05-01 00:10:00                         0.0    26.917831  \n",
       "2017-05-01 00:15:00                         0.0    26.458772  \n",
       "2017-05-01 00:20:00                         0.0    25.991244  \n",
       "...                                         ...          ...  \n",
       "2017-07-11 00:00:00                         0.0    32.899402  \n",
       "2017-07-12 00:00:00                         0.0    33.782892  \n",
       "2017-07-13 00:00:00                         0.0    32.670847  \n",
       "2017-07-14 00:00:00                         0.0    32.679636  \n",
       "2017-07-15 00:00:00                         0.0    31.795031  \n",
       "\n",
       "[18731 rows x 20 columns]"
      ],
      "text/html": "<div>\n<style scoped>\n    .dataframe tbody tr th:only-of-type {\n        vertical-align: middle;\n    }\n\n    .dataframe tbody tr th {\n        vertical-align: top;\n    }\n\n    .dataframe thead th {\n        text-align: right;\n    }\n</style>\n<table border=\"1\" class=\"dataframe\">\n  <thead>\n    <tr style=\"text-align: right;\">\n      <th></th>\n      <th>floor</th>\n      <th>t</th>\n      <th>trend</th>\n      <th>predicted_y_lower</th>\n      <th>predicted_y_upper</th>\n      <th>trend_lower</th>\n      <th>trend_upper</th>\n      <th>additive_terms</th>\n      <th>additive_terms_lower</th>\n      <th>additive_terms_upper</th>\n      <th>daily</th>\n      <th>daily_lower</th>\n      <th>daily_upper</th>\n      <th>weekly</th>\n      <th>weekly_lower</th>\n      <th>weekly_upper</th>\n      <th>multiplicative_terms</th>\n      <th>multiplicative_terms_lower</th>\n      <th>multiplicative_terms_upper</th>\n      <th>predicted_y</th>\n    </tr>\n    <tr>\n      <th>ds</th>\n      <th></th>\n      <th></th>\n      <th></th>\n      <th></th>\n      <th></th>\n      <th></th>\n      <th></th>\n      <th></th>\n      <th></th>\n      <th></th>\n      <th></th>\n      <th></th>\n      <th></th>\n      <th></th>\n      <th></th>\n      <th></th>\n      <th></th>\n      <th></th>\n      <th></th>\n      <th></th>\n    </tr>\n  </thead>\n  <tbody>\n    <tr>\n      <th>2017-05-01 00:00:00</th>\n      <td>0</td>\n      <td>0.000000</td>\n      <td>16.250680</td>\n      <td>22.097380</td>\n      <td>33.349974</td>\n      <td>16.250680</td>\n      <td>16.250680</td>\n      <td>11.557169</td>\n      <td>11.557169</td>\n      <td>11.557169</td>\n      <td>11.584714</td>\n      <td>11.584714</td>\n      <td>11.584714</td>\n      <td>-0.027545</td>\n      <td>-0.027545</td>\n      <td>-0.027545</td>\n      <td>0.0</td>\n      <td>0.0</td>\n      <td>0.0</td>\n      <td>27.807849</td>\n    </tr>\n    <tr>\n      <th>2017-05-01 00:05:00</th>\n      <td>0</td>\n      <td>0.000053</td>\n      <td>16.253167</td>\n      <td>21.868758</td>\n      <td>32.977179</td>\n      <td>16.253167</td>\n      <td>16.253167</td>\n      <td>11.114570</td>\n      <td>11.114570</td>\n      <td>11.114570</td>\n      <td>11.144808</td>\n      <td>11.144808</td>\n      <td>11.144808</td>\n      <td>-0.030238</td>\n      <td>-0.030238</td>\n      <td>-0.030238</td>\n      <td>0.0</td>\n      <td>0.0</td>\n      <td>0.0</td>\n      <td>27.367737</td>\n    </tr>\n    <tr>\n      <th>2017-05-01 00:10:00</th>\n      <td>0</td>\n      <td>0.000107</td>\n      <td>16.255653</td>\n      <td>21.173930</td>\n      <td>32.603210</td>\n      <td>16.255653</td>\n      <td>16.255653</td>\n      <td>10.662177</td>\n      <td>10.662177</td>\n      <td>10.662177</td>\n      <td>10.695127</td>\n      <td>10.695127</td>\n      <td>10.695127</td>\n      <td>-0.032950</td>\n      <td>-0.032950</td>\n      <td>-0.032950</td>\n      <td>0.0</td>\n      <td>0.0</td>\n      <td>0.0</td>\n      <td>26.917831</td>\n    </tr>\n    <tr>\n      <th>2017-05-01 00:15:00</th>\n      <td>0</td>\n      <td>0.000160</td>\n      <td>16.258140</td>\n      <td>21.017459</td>\n      <td>32.084771</td>\n      <td>16.258140</td>\n      <td>16.258140</td>\n      <td>10.200631</td>\n      <td>10.200631</td>\n      <td>10.200631</td>\n      <td>10.236310</td>\n      <td>10.236310</td>\n      <td>10.236310</td>\n      <td>-0.035679</td>\n      <td>-0.035679</td>\n      <td>-0.035679</td>\n      <td>0.0</td>\n      <td>0.0</td>\n      <td>0.0</td>\n      <td>26.458772</td>\n    </tr>\n    <tr>\n      <th>2017-05-01 00:20:00</th>\n      <td>0</td>\n      <td>0.000214</td>\n      <td>16.260627</td>\n      <td>20.528048</td>\n      <td>31.219470</td>\n      <td>16.260627</td>\n      <td>16.260627</td>\n      <td>9.730617</td>\n      <td>9.730617</td>\n      <td>9.730617</td>\n      <td>9.769043</td>\n      <td>9.769043</td>\n      <td>9.769043</td>\n      <td>-0.038425</td>\n      <td>-0.038425</td>\n      <td>-0.038425</td>\n      <td>0.0</td>\n      <td>0.0</td>\n      <td>0.0</td>\n      <td>25.991244</td>\n    </tr>\n    <tr>\n      <th>...</th>\n      <td>...</td>\n      <td>...</td>\n      <td>...</td>\n      <td>...</td>\n      <td>...</td>\n      <td>...</td>\n      <td>...</td>\n      <td>...</td>\n      <td>...</td>\n      <td>...</td>\n      <td>...</td>\n      <td>...</td>\n      <td>...</td>\n      <td>...</td>\n      <td>...</td>\n      <td>...</td>\n      <td>...</td>\n      <td>...</td>\n      <td>...</td>\n      <td>...</td>\n    </tr>\n    <tr>\n      <th>2017-07-11 00:00:00</th>\n      <td>0</td>\n      <td>1.092308</td>\n      <td>21.681163</td>\n      <td>10.497768</td>\n      <td>57.276791</td>\n      <td>0.594430</td>\n      <td>44.143076</td>\n      <td>11.218239</td>\n      <td>11.218239</td>\n      <td>11.218239</td>\n      <td>11.584714</td>\n      <td>11.584714</td>\n      <td>11.584714</td>\n      <td>-0.366475</td>\n      <td>-0.366475</td>\n      <td>-0.366475</td>\n      <td>0.0</td>\n      <td>0.0</td>\n      <td>0.0</td>\n      <td>32.899402</td>\n    </tr>\n    <tr>\n      <th>2017-07-12 00:00:00</th>\n      <td>0</td>\n      <td>1.107692</td>\n      <td>21.391026</td>\n      <td>5.640545</td>\n      <td>63.811194</td>\n      <td>-5.901574</td>\n      <td>51.338513</td>\n      <td>12.391866</td>\n      <td>12.391866</td>\n      <td>12.391866</td>\n      <td>11.584714</td>\n      <td>11.584714</td>\n      <td>11.584714</td>\n      <td>0.807153</td>\n      <td>0.807153</td>\n      <td>0.807153</td>\n      <td>0.0</td>\n      <td>0.0</td>\n      <td>0.0</td>\n      <td>33.782892</td>\n    </tr>\n    <tr>\n      <th>2017-07-13 00:00:00</th>\n      <td>0</td>\n      <td>1.123077</td>\n      <td>21.100888</td>\n      <td>-2.112874</td>\n      <td>69.919151</td>\n      <td>-13.037524</td>\n      <td>57.798199</td>\n      <td>11.569959</td>\n      <td>11.569959</td>\n      <td>11.569959</td>\n      <td>11.584714</td>\n      <td>11.584714</td>\n      <td>11.584714</td>\n      <td>-0.014755</td>\n      <td>-0.014755</td>\n      <td>-0.014755</td>\n      <td>0.0</td>\n      <td>0.0</td>\n      <td>0.0</td>\n      <td>32.670847</td>\n    </tr>\n    <tr>\n      <th>2017-07-14 00:00:00</th>\n      <td>0</td>\n      <td>1.138462</td>\n      <td>20.810751</td>\n      <td>-10.094406</td>\n      <td>77.680350</td>\n      <td>-19.852075</td>\n      <td>64.872750</td>\n      <td>11.868885</td>\n      <td>11.868885</td>\n      <td>11.868885</td>\n      <td>11.584714</td>\n      <td>11.584714</td>\n      <td>11.584714</td>\n      <td>0.284171</td>\n      <td>0.284171</td>\n      <td>0.284171</td>\n      <td>0.0</td>\n      <td>0.0</td>\n      <td>0.0</td>\n      <td>32.679636</td>\n    </tr>\n    <tr>\n      <th>2017-07-15 00:00:00</th>\n      <td>0</td>\n      <td>1.153846</td>\n      <td>20.520613</td>\n      <td>-17.277032</td>\n      <td>85.944057</td>\n      <td>-28.652670</td>\n      <td>73.239525</td>\n      <td>11.274418</td>\n      <td>11.274418</td>\n      <td>11.274418</td>\n      <td>11.584714</td>\n      <td>11.584714</td>\n      <td>11.584714</td>\n      <td>-0.310296</td>\n      <td>-0.310296</td>\n      <td>-0.310296</td>\n      <td>0.0</td>\n      <td>0.0</td>\n      <td>0.0</td>\n      <td>31.795031</td>\n    </tr>\n  </tbody>\n</table>\n<p>18731 rows × 20 columns</p>\n</div>"
     },
     "metadata": {},
     "execution_count": 4
    }
   ],
   "source": [
    "fframe.predict(model=\"prophet\", future_periods=10, weekly_seasonality=True, daily_seasonality=True)\n",
    "fframe.predictions\n"
   ]
  },
  {
   "cell_type": "code",
   "execution_count": null,
   "metadata": {},
   "outputs": [],
   "source": [
    "fframe.plot_components()"
   ]
  },
  {
   "cell_type": "code",
   "execution_count": 6,
   "metadata": {},
   "outputs": [
    {
     "output_type": "execute_result",
     "data": {
      "text/plain": [
       "                         trend  predicted_y  predicted_y_upper  \\\n",
       "ds                                                               \n",
       "2017-05-01 00:00:00  16.250680    27.807849          33.285221   \n",
       "2017-05-01 00:05:00  16.253167    27.367737          33.304813   \n",
       "2017-05-01 00:10:00  16.255653    26.917831          32.735133   \n",
       "2017-05-01 00:15:00  16.258140    26.458772          31.902309   \n",
       "2017-05-01 00:20:00  16.260627    25.991244          31.210369   \n",
       "...                        ...          ...                ...   \n",
       "2017-07-11 00:00:00  21.681163    32.899402          54.195271   \n",
       "2017-07-12 00:00:00  21.391026    33.782892          60.273786   \n",
       "2017-07-13 00:00:00  21.100888    32.670847          64.076468   \n",
       "2017-07-14 00:00:00  20.810751    32.679636          71.434086   \n",
       "2017-07-15 00:00:00  20.520613    31.795031          77.211073   \n",
       "\n",
       "                     predicted_y_lower  \n",
       "ds                                      \n",
       "2017-05-01 00:00:00          22.199277  \n",
       "2017-05-01 00:05:00          21.845696  \n",
       "2017-05-01 00:10:00          21.524307  \n",
       "2017-05-01 00:15:00          20.818218  \n",
       "2017-05-01 00:20:00          20.229587  \n",
       "...                                ...  \n",
       "2017-07-11 00:00:00          10.335384  \n",
       "2017-07-12 00:00:00           3.771110  \n",
       "2017-07-13 00:00:00          -2.385630  \n",
       "2017-07-14 00:00:00         -11.043577  \n",
       "2017-07-15 00:00:00         -18.526034  \n",
       "\n",
       "[18731 rows x 4 columns]"
      ],
      "text/html": "<div>\n<style scoped>\n    .dataframe tbody tr th:only-of-type {\n        vertical-align: middle;\n    }\n\n    .dataframe tbody tr th {\n        vertical-align: top;\n    }\n\n    .dataframe thead th {\n        text-align: right;\n    }\n</style>\n<table border=\"1\" class=\"dataframe\">\n  <thead>\n    <tr style=\"text-align: right;\">\n      <th></th>\n      <th>trend</th>\n      <th>predicted_y</th>\n      <th>predicted_y_upper</th>\n      <th>predicted_y_lower</th>\n    </tr>\n    <tr>\n      <th>ds</th>\n      <th></th>\n      <th></th>\n      <th></th>\n      <th></th>\n    </tr>\n  </thead>\n  <tbody>\n    <tr>\n      <th>2017-05-01 00:00:00</th>\n      <td>16.250680</td>\n      <td>27.807849</td>\n      <td>33.285221</td>\n      <td>22.199277</td>\n    </tr>\n    <tr>\n      <th>2017-05-01 00:05:00</th>\n      <td>16.253167</td>\n      <td>27.367737</td>\n      <td>33.304813</td>\n      <td>21.845696</td>\n    </tr>\n    <tr>\n      <th>2017-05-01 00:10:00</th>\n      <td>16.255653</td>\n      <td>26.917831</td>\n      <td>32.735133</td>\n      <td>21.524307</td>\n    </tr>\n    <tr>\n      <th>2017-05-01 00:15:00</th>\n      <td>16.258140</td>\n      <td>26.458772</td>\n      <td>31.902309</td>\n      <td>20.818218</td>\n    </tr>\n    <tr>\n      <th>2017-05-01 00:20:00</th>\n      <td>16.260627</td>\n      <td>25.991244</td>\n      <td>31.210369</td>\n      <td>20.229587</td>\n    </tr>\n    <tr>\n      <th>...</th>\n      <td>...</td>\n      <td>...</td>\n      <td>...</td>\n      <td>...</td>\n    </tr>\n    <tr>\n      <th>2017-07-11 00:00:00</th>\n      <td>21.681163</td>\n      <td>32.899402</td>\n      <td>54.195271</td>\n      <td>10.335384</td>\n    </tr>\n    <tr>\n      <th>2017-07-12 00:00:00</th>\n      <td>21.391026</td>\n      <td>33.782892</td>\n      <td>60.273786</td>\n      <td>3.771110</td>\n    </tr>\n    <tr>\n      <th>2017-07-13 00:00:00</th>\n      <td>21.100888</td>\n      <td>32.670847</td>\n      <td>64.076468</td>\n      <td>-2.385630</td>\n    </tr>\n    <tr>\n      <th>2017-07-14 00:00:00</th>\n      <td>20.810751</td>\n      <td>32.679636</td>\n      <td>71.434086</td>\n      <td>-11.043577</td>\n    </tr>\n    <tr>\n      <th>2017-07-15 00:00:00</th>\n      <td>20.520613</td>\n      <td>31.795031</td>\n      <td>77.211073</td>\n      <td>-18.526034</td>\n    </tr>\n  </tbody>\n</table>\n<p>18731 rows × 4 columns</p>\n</div>"
     },
     "metadata": {},
     "execution_count": 6
    }
   ],
   "source": [
    "fframe.get_predictions()"
   ]
  },
  {
   "cell_type": "code",
   "execution_count": 7,
   "metadata": {},
   "outputs": [
    {
     "output_type": "execute_result",
     "data": {
      "text/plain": [
       "            Actuals   Predictions  Absolute Percent Error  Absolute Error  \\\n",
       "count  18709.000000  18709.000000            18679.000000    18709.000000   \n",
       "mean      18.449409     18.449373                0.468867        3.154291   \n",
       "std       13.888552     13.012872                1.666729        3.172569   \n",
       "min       -8.400000     -6.559851                0.000016        0.000378   \n",
       "25%        8.000000      8.910201                0.065385        1.055417   \n",
       "50%       13.800000     16.178784                0.129155        2.251714   \n",
       "75%       27.900000     28.440161                0.343549        4.254577   \n",
       "max       53.200000     47.451807               69.646214       23.796608   \n",
       "\n",
       "       Squared Error  \n",
       "count   1.870900e+04  \n",
       "mean    2.001421e+01  \n",
       "std     4.903955e+01  \n",
       "min     1.428153e-07  \n",
       "25%     1.113904e+00  \n",
       "50%     5.070216e+00  \n",
       "75%     1.810142e+01  \n",
       "max     5.662785e+02  "
      ],
      "text/html": "<div>\n<style scoped>\n    .dataframe tbody tr th:only-of-type {\n        vertical-align: middle;\n    }\n\n    .dataframe tbody tr th {\n        vertical-align: top;\n    }\n\n    .dataframe thead th {\n        text-align: right;\n    }\n</style>\n<table border=\"1\" class=\"dataframe\">\n  <thead>\n    <tr style=\"text-align: right;\">\n      <th></th>\n      <th>Actuals</th>\n      <th>Predictions</th>\n      <th>Absolute Percent Error</th>\n      <th>Absolute Error</th>\n      <th>Squared Error</th>\n    </tr>\n  </thead>\n  <tbody>\n    <tr>\n      <th>count</th>\n      <td>18709.000000</td>\n      <td>18709.000000</td>\n      <td>18679.000000</td>\n      <td>18709.000000</td>\n      <td>1.870900e+04</td>\n    </tr>\n    <tr>\n      <th>mean</th>\n      <td>18.449409</td>\n      <td>18.449373</td>\n      <td>0.468867</td>\n      <td>3.154291</td>\n      <td>2.001421e+01</td>\n    </tr>\n    <tr>\n      <th>std</th>\n      <td>13.888552</td>\n      <td>13.012872</td>\n      <td>1.666729</td>\n      <td>3.172569</td>\n      <td>4.903955e+01</td>\n    </tr>\n    <tr>\n      <th>min</th>\n      <td>-8.400000</td>\n      <td>-6.559851</td>\n      <td>0.000016</td>\n      <td>0.000378</td>\n      <td>1.428153e-07</td>\n    </tr>\n    <tr>\n      <th>25%</th>\n      <td>8.000000</td>\n      <td>8.910201</td>\n      <td>0.065385</td>\n      <td>1.055417</td>\n      <td>1.113904e+00</td>\n    </tr>\n    <tr>\n      <th>50%</th>\n      <td>13.800000</td>\n      <td>16.178784</td>\n      <td>0.129155</td>\n      <td>2.251714</td>\n      <td>5.070216e+00</td>\n    </tr>\n    <tr>\n      <th>75%</th>\n      <td>27.900000</td>\n      <td>28.440161</td>\n      <td>0.343549</td>\n      <td>4.254577</td>\n      <td>1.810142e+01</td>\n    </tr>\n    <tr>\n      <th>max</th>\n      <td>53.200000</td>\n      <td>47.451807</td>\n      <td>69.646214</td>\n      <td>23.796608</td>\n      <td>5.662785e+02</td>\n    </tr>\n  </tbody>\n</table>\n</div>"
     },
     "metadata": {},
     "execution_count": 7
    }
   ],
   "source": [
    "fframe.get_errors()"
   ]
  },
  {
   "cell_type": "code",
   "execution_count": 13,
   "metadata": {},
   "outputs": [
    {
     "output_type": "stream",
     "name": "stderr",
     "text": [
      "\n",
      "A value is trying to be set on a copy of a slice from a DataFrame.\n",
      "Try using .loc[row_indexer,col_indexer] = value instead\n",
      "\n",
      "See the caveats in the documentation: https://pandas.pydata.org/pandas-docs/stable/user_guide/indexing.html#returning-a-view-versus-a-copy\n",
      "actuals Series([], Name: y, dtype: float32)\n",
      "preds Series([], Name: yhat, dtype: float64)\n",
      "actuals Series([], Name: y, dtype: float32)\n",
      "preds Series([], Name: yhat, dtype: float64)\n",
      "\n",
      "A value is trying to be set on a copy of a slice from a DataFrame.\n",
      "Try using .loc[row_indexer,col_indexer] = value instead\n",
      "\n",
      "See the caveats in the documentation: https://pandas.pydata.org/pandas-docs/stable/user_guide/indexing.html#returning-a-view-versus-a-copy\n",
      "actuals Series([], Name: y, dtype: float32)\n",
      "preds Series([], Name: yhat, dtype: float64)\n",
      "actuals Series([], Name: y, dtype: float32)\n",
      "preds Series([], Name: yhat, dtype: float64)\n",
      "\n",
      "A value is trying to be set on a copy of a slice from a DataFrame.\n",
      "Try using .loc[row_indexer,col_indexer] = value instead\n",
      "\n",
      "See the caveats in the documentation: https://pandas.pydata.org/pandas-docs/stable/user_guide/indexing.html#returning-a-view-versus-a-copy\n",
      "actuals 11689   NaN\n",
      "11690   NaN\n",
      "11691   NaN\n",
      "11692   NaN\n",
      "11693   NaN\n",
      "11694   NaN\n",
      "11695   NaN\n",
      "11696   NaN\n",
      "11697   NaN\n",
      "11698   NaN\n",
      "11699   NaN\n",
      "11700   NaN\n",
      "Name: y, dtype: float32\n",
      "preds Series([], Name: yhat, dtype: float64)\n",
      "actuals 11689   NaN\n",
      "11690   NaN\n",
      "11691   NaN\n",
      "11692   NaN\n",
      "11693   NaN\n",
      "11694   NaN\n",
      "11695   NaN\n",
      "11696   NaN\n",
      "11697   NaN\n",
      "11698   NaN\n",
      "11699   NaN\n",
      "11700   NaN\n",
      "Name: y, dtype: float32\n",
      "preds Series([], Name: yhat, dtype: float64)\n"
     ]
    }
   ],
   "source": [
    "fframe.cross_validate(folds=3)"
   ]
  },
  {
   "cell_type": "code",
   "execution_count": 14,
   "metadata": {},
   "outputs": [],
   "source": [
    "# check that the latest round of predictions stored in the object were created using the params found in cross-validation\n",
    "assert fframe.results[\"estimator\"].seasonality_mode == fframe.cross_validations[-1][\"best_params\"][\"seasonality_mode\"]"
   ]
  },
  {
   "cell_type": "code",
   "execution_count": 16,
   "metadata": {},
   "outputs": [
    {
     "output_type": "execute_result",
     "data": {
      "text/plain": [
       "[{'In-Sample':            Actuals  Predictions  Absolute Percent Error  Absolute Error  \\\n",
       "  count  4681.000000  4681.000000             4664.000000     4681.000000   \n",
       "  mean     12.326768    12.274615                0.670084        3.125191   \n",
       "  std      10.659573     9.957827                2.204711        2.280020   \n",
       "  min      -4.300000    -1.489614                0.000074        0.000695   \n",
       "  25%       5.100000     4.032158                0.115037        1.191336   \n",
       "  50%       8.600000     9.708493                0.284004        2.827653   \n",
       "  75%      17.900000    19.336209                0.620693        4.452857   \n",
       "  max      43.099998    36.752666               75.739959       15.343415   \n",
       "  \n",
       "         Squared Error  \n",
       "  count   4.681000e+03  \n",
       "  mean    1.496420e+01  \n",
       "  std     1.988254e+01  \n",
       "  min     4.825803e-07  \n",
       "  25%     1.419281e+00  \n",
       "  50%     7.995620e+00  \n",
       "  75%     1.982794e+01  \n",
       "  max     2.354204e+02  ,\n",
       "  'Out-of-Sample':            Actuals  Predictions  Absolute Percent Error  Absolute Error  \\\n",
       "  count  4680.000000  4680.000000             4679.000000     4680.000000   \n",
       "  mean     17.856497   -17.875343                1.906597       35.799108   \n",
       "  std      12.556387    21.386250                1.187589       30.720840   \n",
       "  min       0.000000   -84.094985                0.000934        0.005135   \n",
       "  25%       8.300000   -31.181391                1.125977        9.878281   \n",
       "  50%      13.000000    -9.722992                1.577821       25.628562   \n",
       "  75%      27.700001    -0.922538                2.380520       57.362600   \n",
       "  max      48.700001    11.314608                7.538093      121.083169   \n",
       "  \n",
       "         Squared Error  \n",
       "  count    4680.000000  \n",
       "  mean     2225.144462  \n",
       "  std      3061.351967  \n",
       "  min         0.000026  \n",
       "  25%        97.580439  \n",
       "  50%       656.823189  \n",
       "  75%      3290.467940  \n",
       "  max     14661.133817  },\n",
       " {'In-Sample':            Actuals  Predictions  Absolute Percent Error  Absolute Error  \\\n",
       "  count  9361.000000  9361.000000             9343.000000     9361.000000   \n",
       "  mean     15.091336    15.153549                0.691086        3.781651   \n",
       "  std      11.969675    10.912336                2.765052        2.712116   \n",
       "  min      -4.300000    -0.022997                0.000035        0.000745   \n",
       "  25%       6.400000     5.551249                0.119353        1.578233   \n",
       "  50%      10.800000    12.817336                0.273036        3.323091   \n",
       "  75%      22.799999    24.003455                0.549159        5.452039   \n",
       "  max      48.700001    39.849139               92.003842       17.120713   \n",
       "  \n",
       "         Squared Error  \n",
       "  count   9.361000e+03  \n",
       "  mean    2.165567e+01  \n",
       "  std     2.940811e+01  \n",
       "  min     5.553809e-07  \n",
       "  25%     2.490820e+00  \n",
       "  50%     1.104293e+01  \n",
       "  75%     2.972473e+01  \n",
       "  max     2.931188e+02  ,\n",
       "  'Out-of-Sample':            Actuals  Predictions  Absolute Percent Error  Absolute Error  \\\n",
       "  count  4668.000000  4668.000000             4656.000000     4668.000000   \n",
       "  mean     17.507732     5.069921                0.772853       12.900867   \n",
       "  std      13.713718     6.751823                0.848816       12.050505   \n",
       "  min      -8.400000    -6.246351                0.001424        0.002278   \n",
       "  25%       7.800000     0.170342                0.460823        4.510369   \n",
       "  50%      13.100000     2.785401                0.648784        8.102357   \n",
       "  75%      26.225000     8.539367                1.003488       18.355705   \n",
       "  max      49.799999    23.482640               29.732803       55.193656   \n",
       "  \n",
       "         Squared Error  \n",
       "  count    4668.000000  \n",
       "  mean      311.615935  \n",
       "  std       545.809978  \n",
       "  min         0.000005  \n",
       "  25%        20.343433  \n",
       "  50%        65.648202  \n",
       "  75%       336.931934  \n",
       "  max      3046.339672  },\n",
       " {'In-Sample':             Actuals   Predictions  Absolute Percent Error  Absolute Error  \\\n",
       "  count  14029.000000  14029.000000            13999.000000    14029.000000   \n",
       "  mean      15.895368     15.895111                0.954055        4.664317   \n",
       "  std       12.627811     10.925881                4.312231        3.423654   \n",
       "  min       -8.400000     -8.571325                0.000042        0.000205   \n",
       "  25%        6.900000      7.345233                0.139500        1.953027   \n",
       "  50%       11.400000     15.814656                0.263464        4.048659   \n",
       "  75%       23.600000     24.815517                0.610837        6.616379   \n",
       "  max       49.799999     37.194952              131.492160       17.997684   \n",
       "  \n",
       "         Squared Error  \n",
       "  count   1.402900e+04  \n",
       "  mean    3.347643e+01  \n",
       "  std     4.579942e+01  \n",
       "  min     4.191984e-08  \n",
       "  25%     3.814316e+00  \n",
       "  50%     1.639164e+01  \n",
       "  75%     4.377647e+01  \n",
       "  max     3.239166e+02  ,\n",
       "  'Out-of-Sample':            Actuals  Predictions  Absolute Percent Error  Absolute Error  \\\n",
       "  count  4680.000000  4680.000000             4680.000000     4680.000000   \n",
       "  mean     26.105534    69.768939                2.636887       44.393523   \n",
       "  std      14.661943    29.974035                2.571415       29.350598   \n",
       "  min       6.600000    13.529309                0.000011        0.000541   \n",
       "  25%      13.800000    44.694780                0.680831       17.746318   \n",
       "  50%      19.500000    65.976272                1.639583       39.747861   \n",
       "  75%      41.500000    94.407774                4.171272       70.177770   \n",
       "  max      53.200001   138.784822                9.879638      105.959154   \n",
       "  \n",
       "         Squared Error  \n",
       "  count   4.680000e+03  \n",
       "  mean    2.832058e+03  \n",
       "  std     2.880641e+03  \n",
       "  min     2.930298e-07  \n",
       "  25%     3.149319e+02  \n",
       "  50%     1.579893e+03  \n",
       "  75%     4.924919e+03  \n",
       "  max     1.122734e+04  }]"
      ]
     },
     "metadata": {},
     "execution_count": 16
    }
   ],
   "source": [
    "fframe.get_cross_validation_errors()"
   ]
  },
  {
   "source": [
    "## Example with Feature Engineering"
   ],
   "cell_type": "markdown",
   "metadata": {}
  },
  {
   "cell_type": "code",
   "execution_count": 3,
   "metadata": {},
   "outputs": [],
   "source": [
    "prophet_data = pd.read_csv(\"https://raw.githubusercontent.com/facebook/prophet/master/examples/example_retail_sales.csv\")\n",
    "fframe = ff.ForecastFrame(data=prophet_data, target=\"y\", datetime_column=\"ds\")"
   ]
  },
  {
   "cell_type": "code",
   "execution_count": 4,
   "metadata": {},
   "outputs": [
    {
     "output_type": "execute_result",
     "data": {
      "text/plain": [
       "                   y  day  day_of_week  weekend_flag  week  month  year  \\\n",
       "ds                                                                        \n",
       "1992-01-01 -1.888791    1            2         False     1      1    92   \n",
       "1992-02-01 -1.880625    1            5          True     5      2    92   \n",
       "1992-03-01 -1.738241    1            6          True    10      3    92   \n",
       "1992-04-01 -1.687907    1            2         False    14      4    92   \n",
       "1992-05-01 -1.613573    1            4         False    18      5    92   \n",
       "...              ...  ...          ...           ...   ...    ...   ...   \n",
       "2016-01-01  1.068216    1            4         False     1      1    16   \n",
       "2016-02-01  1.214887    1            0         False     6      2    16   \n",
       "2016-03-01  1.755508    1            1         False    10      3    16   \n",
       "2016-04-01  1.649124    1            4         False    14      4    16   \n",
       "2016-05-01  1.887100    1            6          True    19      5    16   \n",
       "\n",
       "            quarter month_year quarter_year  ...    y_lag2    y_lag3  \\\n",
       "ds                                           ...                       \n",
       "1992-01-01        1      92M01         92Q1  ...       NaN       NaN   \n",
       "1992-02-01        1      92M02         92Q1  ...       NaN       NaN   \n",
       "1992-03-01        1      92M03         92Q1  ... -1.888791       NaN   \n",
       "1992-04-01        2      92M04         92Q2  ... -1.880625 -1.888791   \n",
       "1992-05-01        2      92M05         92Q2  ... -1.738241 -1.880625   \n",
       "...             ...        ...          ...  ...       ...       ...   \n",
       "2016-01-01        1      16M01         16Q1  ...  1.574453  1.579703   \n",
       "2016-02-01        1      16M02         16Q1  ...  2.431124  1.574453   \n",
       "2016-03-01        1      16M03         16Q1  ...  1.068216  2.431124   \n",
       "2016-04-01        2      16M04         16Q2  ...  1.214887  1.068216   \n",
       "2016-05-01        2      16M05         16Q2  ...  1.755508  1.214887   \n",
       "\n",
       "              y_lag7   y_lag52  y_max_roll90_lag1  y_min_roll90_lag1  \\\n",
       "ds                                                                     \n",
       "1992-01-01       NaN       NaN                NaN                NaN   \n",
       "1992-02-01       NaN       NaN          -1.888791          -1.888791   \n",
       "1992-03-01       NaN       NaN          -1.880625          -1.888791   \n",
       "1992-04-01       NaN       NaN          -1.738241          -1.888791   \n",
       "1992-05-01       NaN       NaN          -1.687907          -1.880625   \n",
       "...              ...       ...                ...                ...   \n",
       "2016-01-01  1.617689  0.765804           2.431124           1.574453   \n",
       "2016-02-01  1.727825  0.817718           2.431124           1.068216   \n",
       "2016-03-01  1.711911  0.953829           2.431124           1.068216   \n",
       "2016-04-01  1.416584  1.657650           1.755508           1.068216   \n",
       "2016-05-01  1.579703  0.535367           1.755508           1.214887   \n",
       "\n",
       "            y_std_roll90_lag1  y_mean_roll90_lag1  y_median_roll90_lag1  \\\n",
       "ds                                                                        \n",
       "1992-01-01                NaN                 NaN                   NaN   \n",
       "1992-02-01                NaN           -1.888791             -1.888791   \n",
       "1992-03-01           0.005775           -1.884708             -1.884708   \n",
       "1992-04-01           0.084661           -1.835886             -1.880625   \n",
       "1992-05-01           0.099956           -1.768924             -1.738241   \n",
       "...                       ...                 ...                   ...   \n",
       "2016-01-01           0.493091            1.861760              1.579703   \n",
       "2016-02-01           0.688922            1.691264              1.574453   \n",
       "2016-03-01           0.748138            1.571409              1.214887   \n",
       "2016-04-01           0.361974            1.346204              1.214887   \n",
       "2016-05-01           0.286400            1.539839              1.649124   \n",
       "\n",
       "            y_ewma_roll31_lag1  \n",
       "ds                              \n",
       "1992-01-01                 NaN  \n",
       "1992-02-01                 NaN  \n",
       "1992-03-01                 NaN  \n",
       "1992-04-01                 NaN  \n",
       "1992-05-01                 NaN  \n",
       "...                        ...  \n",
       "2016-01-01            1.493690  \n",
       "2016-02-01            1.467098  \n",
       "2016-03-01            1.451335  \n",
       "2016-04-01            1.470346  \n",
       "2016-05-01            1.481519  \n",
       "\n",
       "[293 rows x 21 columns]"
      ],
      "text/html": "<div>\n<style scoped>\n    .dataframe tbody tr th:only-of-type {\n        vertical-align: middle;\n    }\n\n    .dataframe tbody tr th {\n        vertical-align: top;\n    }\n\n    .dataframe thead th {\n        text-align: right;\n    }\n</style>\n<table border=\"1\" class=\"dataframe\">\n  <thead>\n    <tr style=\"text-align: right;\">\n      <th></th>\n      <th>y</th>\n      <th>day</th>\n      <th>day_of_week</th>\n      <th>weekend_flag</th>\n      <th>week</th>\n      <th>month</th>\n      <th>year</th>\n      <th>quarter</th>\n      <th>month_year</th>\n      <th>quarter_year</th>\n      <th>...</th>\n      <th>y_lag2</th>\n      <th>y_lag3</th>\n      <th>y_lag7</th>\n      <th>y_lag52</th>\n      <th>y_max_roll90_lag1</th>\n      <th>y_min_roll90_lag1</th>\n      <th>y_std_roll90_lag1</th>\n      <th>y_mean_roll90_lag1</th>\n      <th>y_median_roll90_lag1</th>\n      <th>y_ewma_roll31_lag1</th>\n    </tr>\n    <tr>\n      <th>ds</th>\n      <th></th>\n      <th></th>\n      <th></th>\n      <th></th>\n      <th></th>\n      <th></th>\n      <th></th>\n      <th></th>\n      <th></th>\n      <th></th>\n      <th></th>\n      <th></th>\n      <th></th>\n      <th></th>\n      <th></th>\n      <th></th>\n      <th></th>\n      <th></th>\n      <th></th>\n      <th></th>\n      <th></th>\n    </tr>\n  </thead>\n  <tbody>\n    <tr>\n      <th>1992-01-01</th>\n      <td>-1.888791</td>\n      <td>1</td>\n      <td>2</td>\n      <td>False</td>\n      <td>1</td>\n      <td>1</td>\n      <td>92</td>\n      <td>1</td>\n      <td>92M01</td>\n      <td>92Q1</td>\n      <td>...</td>\n      <td>NaN</td>\n      <td>NaN</td>\n      <td>NaN</td>\n      <td>NaN</td>\n      <td>NaN</td>\n      <td>NaN</td>\n      <td>NaN</td>\n      <td>NaN</td>\n      <td>NaN</td>\n      <td>NaN</td>\n    </tr>\n    <tr>\n      <th>1992-02-01</th>\n      <td>-1.880625</td>\n      <td>1</td>\n      <td>5</td>\n      <td>True</td>\n      <td>5</td>\n      <td>2</td>\n      <td>92</td>\n      <td>1</td>\n      <td>92M02</td>\n      <td>92Q1</td>\n      <td>...</td>\n      <td>NaN</td>\n      <td>NaN</td>\n      <td>NaN</td>\n      <td>NaN</td>\n      <td>-1.888791</td>\n      <td>-1.888791</td>\n      <td>NaN</td>\n      <td>-1.888791</td>\n      <td>-1.888791</td>\n      <td>NaN</td>\n    </tr>\n    <tr>\n      <th>1992-03-01</th>\n      <td>-1.738241</td>\n      <td>1</td>\n      <td>6</td>\n      <td>True</td>\n      <td>10</td>\n      <td>3</td>\n      <td>92</td>\n      <td>1</td>\n      <td>92M03</td>\n      <td>92Q1</td>\n      <td>...</td>\n      <td>-1.888791</td>\n      <td>NaN</td>\n      <td>NaN</td>\n      <td>NaN</td>\n      <td>-1.880625</td>\n      <td>-1.888791</td>\n      <td>0.005775</td>\n      <td>-1.884708</td>\n      <td>-1.884708</td>\n      <td>NaN</td>\n    </tr>\n    <tr>\n      <th>1992-04-01</th>\n      <td>-1.687907</td>\n      <td>1</td>\n      <td>2</td>\n      <td>False</td>\n      <td>14</td>\n      <td>4</td>\n      <td>92</td>\n      <td>2</td>\n      <td>92M04</td>\n      <td>92Q2</td>\n      <td>...</td>\n      <td>-1.880625</td>\n      <td>-1.888791</td>\n      <td>NaN</td>\n      <td>NaN</td>\n      <td>-1.738241</td>\n      <td>-1.888791</td>\n      <td>0.084661</td>\n      <td>-1.835886</td>\n      <td>-1.880625</td>\n      <td>NaN</td>\n    </tr>\n    <tr>\n      <th>1992-05-01</th>\n      <td>-1.613573</td>\n      <td>1</td>\n      <td>4</td>\n      <td>False</td>\n      <td>18</td>\n      <td>5</td>\n      <td>92</td>\n      <td>2</td>\n      <td>92M05</td>\n      <td>92Q2</td>\n      <td>...</td>\n      <td>-1.738241</td>\n      <td>-1.880625</td>\n      <td>NaN</td>\n      <td>NaN</td>\n      <td>-1.687907</td>\n      <td>-1.880625</td>\n      <td>0.099956</td>\n      <td>-1.768924</td>\n      <td>-1.738241</td>\n      <td>NaN</td>\n    </tr>\n    <tr>\n      <th>...</th>\n      <td>...</td>\n      <td>...</td>\n      <td>...</td>\n      <td>...</td>\n      <td>...</td>\n      <td>...</td>\n      <td>...</td>\n      <td>...</td>\n      <td>...</td>\n      <td>...</td>\n      <td>...</td>\n      <td>...</td>\n      <td>...</td>\n      <td>...</td>\n      <td>...</td>\n      <td>...</td>\n      <td>...</td>\n      <td>...</td>\n      <td>...</td>\n      <td>...</td>\n      <td>...</td>\n    </tr>\n    <tr>\n      <th>2016-01-01</th>\n      <td>1.068216</td>\n      <td>1</td>\n      <td>4</td>\n      <td>False</td>\n      <td>1</td>\n      <td>1</td>\n      <td>16</td>\n      <td>1</td>\n      <td>16M01</td>\n      <td>16Q1</td>\n      <td>...</td>\n      <td>1.574453</td>\n      <td>1.579703</td>\n      <td>1.617689</td>\n      <td>0.765804</td>\n      <td>2.431124</td>\n      <td>1.574453</td>\n      <td>0.493091</td>\n      <td>1.861760</td>\n      <td>1.579703</td>\n      <td>1.493690</td>\n    </tr>\n    <tr>\n      <th>2016-02-01</th>\n      <td>1.214887</td>\n      <td>1</td>\n      <td>0</td>\n      <td>False</td>\n      <td>6</td>\n      <td>2</td>\n      <td>16</td>\n      <td>1</td>\n      <td>16M02</td>\n      <td>16Q1</td>\n      <td>...</td>\n      <td>2.431124</td>\n      <td>1.574453</td>\n      <td>1.727825</td>\n      <td>0.817718</td>\n      <td>2.431124</td>\n      <td>1.068216</td>\n      <td>0.688922</td>\n      <td>1.691264</td>\n      <td>1.574453</td>\n      <td>1.467098</td>\n    </tr>\n    <tr>\n      <th>2016-03-01</th>\n      <td>1.755508</td>\n      <td>1</td>\n      <td>1</td>\n      <td>False</td>\n      <td>10</td>\n      <td>3</td>\n      <td>16</td>\n      <td>1</td>\n      <td>16M03</td>\n      <td>16Q1</td>\n      <td>...</td>\n      <td>1.068216</td>\n      <td>2.431124</td>\n      <td>1.711911</td>\n      <td>0.953829</td>\n      <td>2.431124</td>\n      <td>1.068216</td>\n      <td>0.748138</td>\n      <td>1.571409</td>\n      <td>1.214887</td>\n      <td>1.451335</td>\n    </tr>\n    <tr>\n      <th>2016-04-01</th>\n      <td>1.649124</td>\n      <td>1</td>\n      <td>4</td>\n      <td>False</td>\n      <td>14</td>\n      <td>4</td>\n      <td>16</td>\n      <td>2</td>\n      <td>16M04</td>\n      <td>16Q2</td>\n      <td>...</td>\n      <td>1.214887</td>\n      <td>1.068216</td>\n      <td>1.416584</td>\n      <td>1.657650</td>\n      <td>1.755508</td>\n      <td>1.068216</td>\n      <td>0.361974</td>\n      <td>1.346204</td>\n      <td>1.214887</td>\n      <td>1.470346</td>\n    </tr>\n    <tr>\n      <th>2016-05-01</th>\n      <td>1.887100</td>\n      <td>1</td>\n      <td>6</td>\n      <td>True</td>\n      <td>19</td>\n      <td>5</td>\n      <td>16</td>\n      <td>2</td>\n      <td>16M05</td>\n      <td>16Q2</td>\n      <td>...</td>\n      <td>1.755508</td>\n      <td>1.214887</td>\n      <td>1.579703</td>\n      <td>0.535367</td>\n      <td>1.755508</td>\n      <td>1.214887</td>\n      <td>0.286400</td>\n      <td>1.539839</td>\n      <td>1.649124</td>\n      <td>1.481519</td>\n    </tr>\n  </tbody>\n</table>\n<p>293 rows × 21 columns</p>\n</div>"
     },
     "metadata": {},
     "execution_count": 4
    }
   ],
   "source": [
    "fframe.standardize_features('y')\n",
    "fframe.calc_datetime_features()\n",
    "fframe.lag_features(features='y', lags=[1, 2, 3, 7, 52])\n",
    "fframe.calc_statistical_features(features='y', windows=90)\n",
    "fframe.calc_ewma(features='y', windows=[31])\n",
    "fframe.sample"
   ]
  },
  {
   "cell_type": "code",
   "execution_count": null,
   "metadata": {},
   "outputs": [],
   "source": [
    "fframe.predict(model=\"prophet\", future_periods=10, weekly_seasonality=True, daily_seasonality=True)\n",
    "fframe.predictions"
   ]
  },
  {
   "cell_type": "code",
   "execution_count": null,
   "metadata": {},
   "outputs": [],
   "source": [
    "fframe.plot_components()"
   ]
  },
  {
   "cell_type": "code",
   "execution_count": null,
   "metadata": {},
   "outputs": [],
   "source": [
    "fframe.get_predictions()"
   ]
  },
  {
   "cell_type": "code",
   "execution_count": null,
   "metadata": {},
   "outputs": [],
   "source": [
    "fframe.get_errors()"
   ]
  },
  {
   "cell_type": "code",
   "execution_count": null,
   "metadata": {
    "tags": []
   },
   "outputs": [],
   "source": [
    "fframe.cross_validate(folds=3)"
   ]
  },
  {
   "cell_type": "code",
   "execution_count": null,
   "metadata": {},
   "outputs": [],
   "source": [
    "fframe.get_cross_validation_errors()[-1]"
   ]
  },
  {
   "cell_type": "code",
   "execution_count": null,
   "metadata": {},
   "outputs": [],
   "source": []
  },
  {
   "cell_type": "code",
   "execution_count": null,
   "metadata": {},
   "outputs": [],
   "source": []
  }
 ]
}