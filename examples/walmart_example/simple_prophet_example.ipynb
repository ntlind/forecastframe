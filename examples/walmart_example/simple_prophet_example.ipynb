{
 "metadata": {
  "language_info": {
   "codemirror_mode": {
    "name": "ipython",
    "version": 3
   },
   "file_extension": ".py",
   "mimetype": "text/x-python",
   "name": "python",
   "nbconvert_exporter": "python",
   "pygments_lexer": "ipython3",
   "version": "3.7.9-final"
  },
  "orig_nbformat": 2,
  "kernelspec": {
   "name": "python3",
   "display_name": "Python 3",
   "language": "python"
  }
 },
 "nbformat": 4,
 "nbformat_minor": 2,
 "cells": [
  {
   "source": [
    "# Simple Prophet Examples"
   ],
   "cell_type": "markdown",
   "metadata": {}
  },
  {
   "cell_type": "code",
   "execution_count": 1,
   "metadata": {},
   "outputs": [],
   "source": [
    "%load_ext autoreload\n",
    "%autoreload 2"
   ]
  },
  {
   "cell_type": "code",
   "execution_count": 5,
   "metadata": {},
   "outputs": [],
   "source": [
    "\n",
    "import numpy as np\n",
    "import pandas as pd\n",
    "import os \n",
    "import fbprophet\n",
    "\n",
    "# help ipython find our path\n",
    "directory = os.path.dirname(os.path.dirname(os.path.abspath('')))\n",
    "os.chdir(directory)\n",
    "\n",
    "import forecastframe as ff"
   ]
  },
  {
   "source": [
    "## Non-Hierarchical Example"
   ],
   "cell_type": "markdown",
   "metadata": {}
  },
  {
   "cell_type": "code",
   "execution_count": 6,
   "metadata": {},
   "outputs": [],
   "source": [
    "prophet_data = pd.read_csv(\"https://raw.githubusercontent.com/facebook/prophet/master/examples/example_retail_sales.csv\")"
   ]
  },
  {
   "cell_type": "code",
   "execution_count": 7,
   "metadata": {},
   "outputs": [
    {
     "output_type": "execute_result",
     "data": {
      "text/plain": [
       "             ds       y\n",
       "0    1992-01-01  146376\n",
       "1    1992-02-01  147079\n",
       "2    1992-03-01  159336\n",
       "3    1992-04-01  163669\n",
       "4    1992-05-01  170068\n",
       "..          ...     ...\n",
       "288  2016-01-01  400928\n",
       "289  2016-02-01  413554\n",
       "290  2016-03-01  460093\n",
       "291  2016-04-01  450935\n",
       "292  2016-05-01  471421\n",
       "\n",
       "[293 rows x 2 columns]"
      ],
      "text/html": "<div>\n<style scoped>\n    .dataframe tbody tr th:only-of-type {\n        vertical-align: middle;\n    }\n\n    .dataframe tbody tr th {\n        vertical-align: top;\n    }\n\n    .dataframe thead th {\n        text-align: right;\n    }\n</style>\n<table border=\"1\" class=\"dataframe\">\n  <thead>\n    <tr style=\"text-align: right;\">\n      <th></th>\n      <th>ds</th>\n      <th>y</th>\n    </tr>\n  </thead>\n  <tbody>\n    <tr>\n      <th>0</th>\n      <td>1992-01-01</td>\n      <td>146376</td>\n    </tr>\n    <tr>\n      <th>1</th>\n      <td>1992-02-01</td>\n      <td>147079</td>\n    </tr>\n    <tr>\n      <th>2</th>\n      <td>1992-03-01</td>\n      <td>159336</td>\n    </tr>\n    <tr>\n      <th>3</th>\n      <td>1992-04-01</td>\n      <td>163669</td>\n    </tr>\n    <tr>\n      <th>4</th>\n      <td>1992-05-01</td>\n      <td>170068</td>\n    </tr>\n    <tr>\n      <th>...</th>\n      <td>...</td>\n      <td>...</td>\n    </tr>\n    <tr>\n      <th>288</th>\n      <td>2016-01-01</td>\n      <td>400928</td>\n    </tr>\n    <tr>\n      <th>289</th>\n      <td>2016-02-01</td>\n      <td>413554</td>\n    </tr>\n    <tr>\n      <th>290</th>\n      <td>2016-03-01</td>\n      <td>460093</td>\n    </tr>\n    <tr>\n      <th>291</th>\n      <td>2016-04-01</td>\n      <td>450935</td>\n    </tr>\n    <tr>\n      <th>292</th>\n      <td>2016-05-01</td>\n      <td>471421</td>\n    </tr>\n  </tbody>\n</table>\n<p>293 rows × 2 columns</p>\n</div>"
     },
     "metadata": {},
     "execution_count": 7
    }
   ],
   "source": [
    "prophet_data"
   ]
  },
  {
   "cell_type": "code",
   "execution_count": 8,
   "metadata": {},
   "outputs": [],
   "source": [
    "fframe = ff.ForecastFrame(data=prophet_data, target=\"y\", datetime_column=\"ds\")"
   ]
  },
  {
   "cell_type": "code",
   "execution_count": 11,
   "metadata": {},
   "outputs": [
    {
     "output_type": "execute_result",
     "data": {
      "text/plain": [
       "                 y\n",
       "ds                \n",
       "1992-01-01  146376\n",
       "1992-02-01  147079\n",
       "1992-03-01  159336\n",
       "1992-04-01  163669\n",
       "1992-05-01  170068\n",
       "...            ...\n",
       "2016-01-01  400928\n",
       "2016-02-01  413554\n",
       "2016-03-01  460093\n",
       "2016-04-01  450935\n",
       "2016-05-01  471421\n",
       "\n",
       "[293 rows x 1 columns]"
      ]
     },
     "metadata": {},
     "execution_count": 11
    }
   ],
   "source": [
    "fframe"
   ]
  },
  {
   "cell_type": "code",
   "execution_count": 12,
   "metadata": {},
   "outputs": [
    {
     "output_type": "execute_result",
     "data": {
      "text/plain": [
       "                    trend     yhat_upper     yhat_lower           yhat\n",
       "ds                                                                    \n",
       "1992-01-01  149291.352945  141299.118469  121551.382073  131088.226795\n",
       "1992-02-01  150340.205130  140132.413493  121163.208815  130902.627119\n",
       "1992-03-01  151321.389431  174112.831539  155307.584227  164541.413924\n",
       "1992-04-01  152370.241616  172955.470247  154846.949609  164637.373016\n",
       "1992-05-01  153385.259859  188506.342790  169648.708067  179055.605125\n",
       "...                   ...            ...            ...            ...\n",
       "2016-05-07  449843.564818  483820.518296  464462.333377  474358.711349\n",
       "2016-05-08  449889.809161  482050.349037  463198.127794  472843.441782\n",
       "2016-05-09  449936.053503  486853.954599  469103.393952  478195.558355\n",
       "2016-05-10  449982.297845  491166.385050  472314.921172  481672.324827\n",
       "2016-05-11  450028.542188  492729.517483  473569.258038  482719.502388\n",
       "\n",
       "[303 rows x 4 columns]"
      ],
      "text/html": "<div>\n<style scoped>\n    .dataframe tbody tr th:only-of-type {\n        vertical-align: middle;\n    }\n\n    .dataframe tbody tr th {\n        vertical-align: top;\n    }\n\n    .dataframe thead th {\n        text-align: right;\n    }\n</style>\n<table border=\"1\" class=\"dataframe\">\n  <thead>\n    <tr style=\"text-align: right;\">\n      <th></th>\n      <th>trend</th>\n      <th>yhat_upper</th>\n      <th>yhat_lower</th>\n      <th>yhat</th>\n    </tr>\n    <tr>\n      <th>ds</th>\n      <th></th>\n      <th></th>\n      <th></th>\n      <th></th>\n    </tr>\n  </thead>\n  <tbody>\n    <tr>\n      <th>1992-01-01</th>\n      <td>149291.352945</td>\n      <td>141299.118469</td>\n      <td>121551.382073</td>\n      <td>131088.226795</td>\n    </tr>\n    <tr>\n      <th>1992-02-01</th>\n      <td>150340.205130</td>\n      <td>140132.413493</td>\n      <td>121163.208815</td>\n      <td>130902.627119</td>\n    </tr>\n    <tr>\n      <th>1992-03-01</th>\n      <td>151321.389431</td>\n      <td>174112.831539</td>\n      <td>155307.584227</td>\n      <td>164541.413924</td>\n    </tr>\n    <tr>\n      <th>1992-04-01</th>\n      <td>152370.241616</td>\n      <td>172955.470247</td>\n      <td>154846.949609</td>\n      <td>164637.373016</td>\n    </tr>\n    <tr>\n      <th>1992-05-01</th>\n      <td>153385.259859</td>\n      <td>188506.342790</td>\n      <td>169648.708067</td>\n      <td>179055.605125</td>\n    </tr>\n    <tr>\n      <th>...</th>\n      <td>...</td>\n      <td>...</td>\n      <td>...</td>\n      <td>...</td>\n    </tr>\n    <tr>\n      <th>2016-05-07</th>\n      <td>449843.564818</td>\n      <td>483820.518296</td>\n      <td>464462.333377</td>\n      <td>474358.711349</td>\n    </tr>\n    <tr>\n      <th>2016-05-08</th>\n      <td>449889.809161</td>\n      <td>482050.349037</td>\n      <td>463198.127794</td>\n      <td>472843.441782</td>\n    </tr>\n    <tr>\n      <th>2016-05-09</th>\n      <td>449936.053503</td>\n      <td>486853.954599</td>\n      <td>469103.393952</td>\n      <td>478195.558355</td>\n    </tr>\n    <tr>\n      <th>2016-05-10</th>\n      <td>449982.297845</td>\n      <td>491166.385050</td>\n      <td>472314.921172</td>\n      <td>481672.324827</td>\n    </tr>\n    <tr>\n      <th>2016-05-11</th>\n      <td>450028.542188</td>\n      <td>492729.517483</td>\n      <td>473569.258038</td>\n      <td>482719.502388</td>\n    </tr>\n  </tbody>\n</table>\n<p>303 rows × 4 columns</p>\n</div>"
     },
     "metadata": {},
     "execution_count": 12
    }
   ],
   "source": [
    "fframe.predict(model=\"prophet\", future_periods=10, weekly_seasonality=True, daily_seasonality=True)\n",
    "fframe.predictions\n"
   ]
  },
  {
   "cell_type": "code",
   "execution_count": null,
   "metadata": {},
   "outputs": [],
   "source": []
  },
  {
   "cell_type": "code",
   "execution_count": null,
   "metadata": {},
   "outputs": [],
   "source": []
  }
 ]
}